{
 "cells": [
  {
   "cell_type": "markdown",
   "metadata": {},
   "source": [
    "Answer all questions and submit them either as an IPython notebook, LaTeX document, or Markdown document. Each question is worth 25 points.\n",
    "\n",
    "This homework is due Tuesday, October 24, 2017."
   ]
  },
  {
   "cell_type": "code",
   "execution_count": 1,
   "metadata": {
    "collapsed": true
   },
   "outputs": [],
   "source": [
    "%matplotlib inline\n",
    "import numpy as np\n",
    "import pymc3 as pm\n",
    "import pylab as plt\n",
    "import pandas as pd\n",
    "\n",
    "# Set seed\n",
    "np.random.seed(42)"
   ]
  },
  {
   "cell_type": "markdown",
   "metadata": {},
   "source": [
    "# Question 1\n",
    "\n",
    "Epidemiologists are interested in studying the sexual behavior of individuals at risk for HIV infection. Suppose 1500 gay men were surveyed and each was asked how many risky sexual encounters he had in the previous 30 days. Let $n_i$ denote the number of respondents reporting $i$ encounters, for $i = 1, \\ldots , 16$. The DataFrame below contains these reponses:"
   ]
  },
  {
   "cell_type": "code",
   "execution_count": 2,
   "metadata": {},
   "outputs": [
    {
     "data": {
      "text/plain": [
       "<matplotlib.axes._subplots.AxesSubplot at 0x18587977240>"
      ]
     },
     "execution_count": 2,
     "metadata": {},
     "output_type": "execute_result"
    },
    {
     "data": {
      "image/png": "[encoded data removed]",
      "text/plain": [
       "<matplotlib.figure.Figure at 0x1858698d748>"
      ]
     },
     "metadata": {},
     "output_type": "display_data"
    }
   ],
   "source": [
    "encounters = pd.DataFrame({'count': np.arange(17),\n",
    "                          'freq': [379, 299, 222, 145, 109, 95, 73, 59,\n",
    "                                  45, 30, 24, 12, 4, 2, 0, 1, 1]})\n",
    "\n",
    "encounters.freq.plot.bar()"
   ]
  },
  {
   "cell_type": "markdown",
   "metadata": {},
   "source": [
    "These data are poorly fitted by a Poisson model. It is more realistic to assume that the respondents comprise three groups. First, there is a group of people who, for whatever reason, report zero risky encounters even if this is not true. Suppose a respondent has probability $\\alpha$ of belonging to this group. \n",
    "\n",
    "With probability $\\beta$, a respondent belongs to a second group representing typical behavior. Such people respond truthfully, and their numbers of risky encounters are assumed to follow a $\\text{Poisson}(\\mu)$ distribution. \n",
    "\n",
    "Finally, with probability $1 − \\alpha − \\beta$, a respondent belongs to a high-risk group. Such people respond truthfully, and their numbers of risky encounters are assumed to follow a $\\text{Poisson}(\\lambda)$ distribution. \n",
    "\n",
    "The parameters in the model are $\\alpha, \\beta, \\mu$ and $\\lambda$. At the $t$th iteration of EM, we use $\\theta^{(t)} = (\\alpha^{(t)}, \\beta^{(t)}, \\mu^{(t)}, \\lambda^{(t)})$ to denote the current parameter values. The likelihood of the observed data is given by:\n",
    "\n",
    "$$L(\\theta | n_0, \\ldots, n_{16}) \\propto \\prod_{i=0}^{16} \\left[ \\frac{\\pi_i(\\theta)}{i!} \\right]^{n_i}$$\n",
    "\n",
    "where $\\pi_i(\\theta) = \\alpha 1_{(i=0)} + \\beta \\mu^i \\exp(-\\mu) + (1-\\alpha - \\beta) \\lambda^i \\exp(-\\lambda)$.\n",
    "\n",
    "The observed data are in the `encounters` table above; the *complete* data may be construed to be $(n_{z,0}, n_{t,0}, n_{p,0}), \\ldots, (n_{z,16}, n_{t,16}, n_{p,16})$, where $k = z, t, p$ correspond to zero, typical and promiscuous groups, respectively. That is, $n_0 = n_{z,0} + n_{t,0} + n_{p,0}$, and so on. Let $N = \\sum_{i=0}^{16} n_i = 1500$.\n",
    "\n",
    "Also define:\n",
    "\n",
    "$$\\begin{align}\n",
    "z_0(\\theta) &=& \\frac{\\alpha}{\\pi_0(\\theta)} \\\\\n",
    "t_i(\\theta) &=& \\frac{\\beta \\mu^i \\exp(-\\mu)}{\\pi_i(\\theta)} \\\\\n",
    "p_i(\\theta) &=& \\frac{(1-\\alpha-\\beta)\\lambda^i \\exp(-\\lambda)}{\\pi_i(\\theta)}\n",
    "\\end{align}$$\n",
    "\n",
    "which correspond to probabilities that respondents with $i$ risky encounters belong to various groups.\n",
    "\n",
    "a. Show that the EM algorithm provides the following updates:\n",
    "\n",
    "$$\\begin{align}\n",
    "\\alpha^{(t+1)} &=& \\frac{n_0 z_0(\\theta^{(t)})}{N} \\\\\n",
    "\\beta^{(t+1)} &=& \\sum_i \\frac{n_i t_i(\\theta^{(t)})}{N} \\\\\n",
    "\\mu^{(t+1)} &=& \\frac{\\sum_i i n_i t_i(\\theta^{(t)})}{\\sum_i n_i t_i(\\theta^{(t)})} \\\\\n",
    "\\lambda^{(t+1)} &=& \\frac{\\sum_i i n_i p_i(\\theta^{(t)})}{\\sum_i n_i p_i(\\theta^{(t)})}\n",
    "\\end{align}$$\n",
    "\n",
    "\n",
    "b. Extimate the parameters of the model using the observed data."
   ]
  },
  {
   "cell_type": "code",
   "execution_count": 67,
   "metadata": {
    "collapsed": true
   },
   "outputs": [],
   "source": [
    "# Write your answer here\n",
    "def prob(theta, n):\n",
    "    alpha, beta, mu, lamb = theta\n",
    "    nlist = np.arange(n)\n",
    "    return alpha*(nlist == 0)+beta*np.exp(-mu)*np.power(mu, nlist)+(1-alpha-beta)*np.exp(-lamb)*np.power(lamb, nlist)\n",
    "    \n",
    "def e_step(theta, nums):\n",
    "    alpha, beta, mu, lamb = theta\n",
    "    n = len(nums)\n",
    "    nlist = np.arange(n)\n",
    "    probs = prob(theta, n)\n",
    "    z_0 = alpha/probs[0]\n",
    "    t = beta*np.exp(-mu)*np.power(mu, nlist)/probs\n",
    "    p = (1-alpha-beta)*np.exp(-lamb)*np.power(lamb, nlist)/probs\n",
    "    return z_0, t, p\n",
    "    \n",
    "def m_step(theta, z_0, t, p, nums):\n",
    "    N = np.sum(nums)\n",
    "    n = len(nums)\n",
    "    nlist = np.arange(n)\n",
    "    alpha = nums[0]*z_0/N\n",
    "    beta = np.sum(nums*t)/N\n",
    "    mu = np.sum(nlist*nums*t)/np.sum(nums*t)\n",
    "    lamb = np.sum(nlist*nums*p)/np.sum(nums*p)\n",
    "    return [alpha, beta, mu, lamb]\n",
    "\n",
    "def run_em(theta, data):\n",
    "    \n",
    "    # Initialize values\n",
    "    z_0, t, p = 0.0, 0.0, 0.0\n",
    "    theta_new = [0.0, 0.0, 0.0, 0.0]\n",
    "\n",
    "    # Stopping criterion\n",
    "    crit = 1e-5\n",
    "\n",
    "    # Convergence flag\n",
    "    converged = False\n",
    "\n",
    "    # Loop until converged\n",
    "    while not converged:\n",
    "\n",
    "        # E-step\n",
    "        z_0, t, p = e_step(theta, data)\n",
    "        # M-step\n",
    "        theta_new = m_step(theta, z_0, t, p, data)\n",
    "\n",
    "        # Check convergence\n",
    "        converged = np.all(np.abs((np.array(theta_new) - np.array(theta))) < crit)\n",
    "        theta = theta_new\n",
    "\n",
    "    print('The estimated parameters using EM: alpha {0:.4f}, beta {1:.4f}, mu {2:.4f}, lambda {3:.4f}'\n",
    "          .format(theta_new[0], theta_new[1], theta_new[2], theta_new[3]))"
   ]
  },
  {
   "cell_type": "code",
   "execution_count": 68,
   "metadata": {},
   "outputs": [
    {
     "name": "stdout",
     "output_type": "stream",
     "text": [
      "The estimated parameters using EM: alpha 0.2294, beta 0.0856, mu 3.5013, lambda 3.5013\n"
     ]
    }
   ],
   "source": [
    "run_em(theta = [0.1, 0.1, 2, 2], data = np.array(encounters.freq.values))"
   ]
  },
  {
   "cell_type": "markdown",
   "metadata": {},
   "source": [
    "# Question 2\n",
    "\n",
    "Suppose $y$ has a binomial distribution with parameters $n$ and $p$, and we are interested in the log-odds value $\\theta = \\log(p/(1 − p))$. Our prior for $\\theta$ is that $\\theta \\sim N(\\mu, \\sigma^2)$. It follows that the posterior density of $\\theta$ is given, up to a proportionality constant, by:\n",
    "\n",
    "$$\\pi(\\theta | y) \\propto \\frac{\\exp(y\\theta)}{(1 + exp(\\theta))^n} \\exp\\left[\\frac{-(\\theta − \\mu)^2}{2\\sigma^2}\\right]$$\n",
    "\n",
    "For example, suppose we are interested in learning about the probability that a possibly-biased coin lands heads when tossed. *A priori* we believe that the coin is fair, so we assign $\\theta$ a $N(0,.25)$ prior. We toss the coin $n = 5$ times and obtain $y = 5$ heads.\n",
    "\n",
    "1. Using a normal approximation to the posterior density, compute the probability that the coin is biased toward heads (i.e., that θ is positive).\n",
    "2. Using the prior density as a proposal density, design a rejection algorithm for sampling from the posterior distribution. Using simulated draws from your algorithm, approximate the probability that the coin is biased toward heads.\n",
    "3. Using the prior density as a proposal density, simulate values from the posterior distribution using the SIR algorithm. Approximate the probability that the coin is biased toward heads."
   ]
  },
  {
   "cell_type": "code",
   "execution_count": 40,
   "metadata": {},
   "outputs": [
    {
     "data": {
      "text/plain": [
       "0.72640203009638837"
      ]
     },
     "execution_count": 40,
     "metadata": {},
     "output_type": "execute_result"
    }
   ],
   "source": [
    "# Write your anser here\n",
    "# question 1\n",
    "from scipy.optimize import minimize\n",
    "from scipy.stats import distributions\n",
    "\n",
    "def cal_logposterior(theta, param):\n",
    "    y = param[0]\n",
    "    n = param[1]\n",
    "    mu = param[2]\n",
    "    sigma = param[3]\n",
    "    return -1.0*(y*theta - n*np.log(1+np.exp(theta)) - (theta-mu)**2/(2.0*sigma**2))\n",
    "\n",
    "param = [5, 5, 0, 0.25]\n",
    "\n",
    "opt = minimize(cal_logposterior, 0, method='L-BFGS-B', args=(param,))\n",
    "mode = opt.x\n",
    "var = opt.hess_inv.todense()\n",
    "# computer the probability above 0\n",
    "bias_prob1 = 1 - distributions.norm.cdf(0, loc = mode, scale = np.sqrt(var))\n",
    "bias_prob1[0][0]"
   ]
  },
  {
   "cell_type": "code",
   "execution_count": 34,
   "metadata": {},
   "outputs": [
    {
     "data": {
      "text/plain": [
       "0.72704225352112672"
      ]
     },
     "execution_count": 34,
     "metadata": {},
     "output_type": "execute_result"
    },
    {
     "data": {
      "image/png": "[encoded data removed]",
      "text/plain": [
       "<matplotlib.figure.Figure at 0x1858ad46588>"
      ]
     },
     "metadata": {},
     "output_type": "display_data"
    }
   ],
   "source": [
    "# question 2\n",
    "def reject(niter):\n",
    "    theta = np.random.normal(loc = 0, scale = 0.25, size = niter)\n",
    "    ratio = np.exp(5*theta)/np.power(1+np.exp(theta), 5)\n",
    "    return theta[np.random.random(niter) < ratio]\n",
    "\n",
    "niter = 10**5\n",
    "part_theta = reject(niter)\n",
    "plt.hist(part_theta)\n",
    "\n",
    "acceptance = len(part_theta)\n",
    "bias_prob2 = np.mean(part_theta > 0)\n",
    "bias_prob2"
   ]
  },
  {
   "cell_type": "code",
   "execution_count": 36,
   "metadata": {},
   "outputs": [
    {
     "data": {
      "text/plain": [
       "0.72438000000000002"
      ]
     },
     "execution_count": 36,
     "metadata": {},
     "output_type": "execute_result"
    },
    {
     "data": {
      "image/png": "[encoded data removed]",
      "text/plain": [
       "<matplotlib.figure.Figure at 0x18589c4ac50>"
      ]
     },
     "metadata": {},
     "output_type": "display_data"
    }
   ],
   "source": [
    "# question 3\n",
    "niter = 10**5\n",
    "sir_theta = np.random.normal(loc = 0, scale = 0.25, size = niter)\n",
    "ratio = np.exp(5*sir_theta)/np.power(1+np.exp(sir_theta), 5)\n",
    "w = ratio/np.sum(ratio)\n",
    "theta_post = np.random.choice(sir_theta, size = niter, replace = True, p = w)\n",
    "plt.hist(theta_post)\n",
    "\n",
    "bias_prob3 = np.mean(theta_post > 0)\n",
    "bias_prob3"
   ]
  },
  {
   "cell_type": "markdown",
   "metadata": {},
   "source": [
    "# Question 3\n",
    "\n",
    "The goal of this problem is to investigate the role of the proposal distribution in a Metropolis-Hastings algorithm designed to simulate from the posterior distribution of the mixture parameter $\\delta$. \n",
    "\n",
    "1. Simulate 200 realizations from the mixture distribution:\n",
    "    $$y_i \\sim \\delta N(7, 0.5^2) + (1-\\delta) N(10, 0.5^2)$$\n",
    "    with $\\delta = 0.7$. Plot a histogram of these data. \n",
    "2. Implement a random walk M-H algorithm with proposal $\\delta^{\\prime} = \\delta^{(i)} + \\epsilon$ with $\\epsilon \\sim Unif(-1,1)$. \n",
    "3. Reparameterize the problem letting $U = \\log\\left[\\frac{\\delta}{1 - \\delta}\\right]$ and $u^{\\prime} = u^{(i)} + \\epsilon$. Implement a random walk chain in U-space. \n",
    "4. Compare the estimates and convergence behavior of the three algorithms.\n",
    "\n",
    "In part (1), you are asked to simulate data from a distribution with $\\delta$ known. For parts (2)–(3), assume $\\delta$ is unknown with prior $\\delta \\sim Unif( 0,1)$. For parts (2)–(3), provide an appropriate plot and a table summarizing the output of the algorithm. \n",
    "\n",
    "To facilitate comparisons, use the same number of iterations, random seed, starting values, and burn-in period for all implementations of the algorithm. "
   ]
  },
  {
   "cell_type": "code",
   "execution_count": 99,
   "metadata": {},
   "outputs": [
    {
     "data": {
      "text/plain": [
       "(array([  8.,  80.,  49.,   3.,   0.,   0.,   1.,  13.,  38.,   8.]),\n",
       " array([  6.18968316,   6.64768687,   7.10569057,   7.56369428,\n",
       "          8.02169798,   8.47970168,   8.93770539,   9.39570909,\n",
       "          9.85371279,  10.3117165 ,  10.7697202 ]),\n",
       " <a list of 10 Patch objects>)"
      ]
     },
     "execution_count": 99,
     "metadata": {},
     "output_type": "execute_result"
    },
    {
     "data": {
      "image/png": "[encoded data removed]",
      "text/plain": [
       "<matplotlib.figure.Figure at 0x1859132a3c8>"
      ]
     },
     "metadata": {},
     "output_type": "display_data"
    }
   ],
   "source": [
    "# Write answer here\n",
    "# question 1\n",
    "np.random.seed(42)\n",
    "\n",
    "n_sample = 200\n",
    "delta = 0.7\n",
    "flag = np.random.uniform(0,1,n_sample) < 0.7\n",
    "y = flag*np.random.normal(loc=7, scale=0.25, size=n_sample) \\\n",
    "    +(1-flag)*np.random.normal(loc=10, scale=0.25, size=n_sample)\n",
    "plt.hist(y)"
   ]
  },
  {
   "cell_type": "code",
   "execution_count": 100,
   "metadata": {
    "collapsed": true
   },
   "outputs": [],
   "source": [
    "from scipy.stats import distributions\n",
    "norm = distributions.norm.pdf\n",
    "\n",
    "def calc_posterior(delta, y):\n",
    "    prob = delta*norm(y, loc=7, scale=0.25) + (1-delta)*norm(y, loc=10, scale=0.25)\n",
    "    return np.sum(np.log(prob))\n",
    "\n",
    "def metropolis(n_iterations, initial_values, param):               \n",
    "    # Initialize trace for parameters\n",
    "    trace = np.empty(n_iterations+1)\n",
    "    \n",
    "    # Set initial values\n",
    "    trace[0] = initial_values\n",
    "        \n",
    "    # Calculate joint posterior for initial values\n",
    "    if param == 'original':\n",
    "        current_log_prob = calc_posterior(initial_values, y)\n",
    "    elif param == 'uspace':\n",
    "        current_log_prob = calc_posterior(np.exp(initial_values)/(1+np.exp(initial_values)), y)\n",
    "    \n",
    "    # Initialize acceptance counts\n",
    "    accepted = 0\n",
    "    \n",
    "    for i in range(n_iterations):\n",
    "    \n",
    "        if not i%10000: print('Iteration %i' % i)\n",
    "    \n",
    "        # Grab current parameter values\n",
    "        current_params = trace[i]\n",
    "        \n",
    "        error = np.random.uniform(-1,1)\n",
    "        proposed = current_params + error\n",
    "    \n",
    "        # Calculate log posterior with proposed value\n",
    "        if param == 'original':\n",
    "            proposed_log_prob = calc_posterior(proposed, y)\n",
    "        elif param == 'uspace':\n",
    "            proposed_log_prob = calc_posterior(np.exp(proposed)/(1+np.exp(proposed)), y)\n",
    "        \n",
    "        # Log-acceptance rate\n",
    "        alpha = proposed_log_prob - current_log_prob\n",
    "\n",
    "        # Sample a uniform random variate\n",
    "        u = np.random.random()\n",
    "\n",
    "        # Test proposed value\n",
    "        if np.log(u) < alpha:\n",
    "            # Accept\n",
    "            trace[i+1] = proposed\n",
    "            current_log_prob = proposed_log_prob\n",
    "            accepted += 1\n",
    "        else:\n",
    "            # Reject\n",
    "            trace[i+1] = trace[i]\n",
    "    return trace, accepted"
   ]
  },
  {
   "cell_type": "code",
   "execution_count": 101,
   "metadata": {},
   "outputs": [
    {
     "name": "stdout",
     "output_type": "stream",
     "text": [
      "Iteration 0\n",
      "The estimated delta is  0.6939 and the number of accepted is  519\n"
     ]
    },
    {
     "data": {
      "image/png": "[encoded data removed]",
      "text/plain": [
       "<matplotlib.figure.Figure at 0x1858f9612b0>"
      ]
     },
     "metadata": {},
     "output_type": "display_data"
    }
   ],
   "source": [
    "# question 2\n",
    "trace_1, accepted_1 = metropolis(10**4, 0.5, 'original')\n",
    "plt.plot(trace_1)\n",
    "print(\"The estimated delta is {0: .4f} and the number of accepted is {1: }\"\n",
    "          .format(trace_1[-1], accepted_1))"
   ]
  },
  {
   "cell_type": "code",
   "execution_count": 102,
   "metadata": {},
   "outputs": [
    {
     "name": "stdout",
     "output_type": "stream",
     "text": [
      "Iteration 0\n",
      "The estimated delta is  0.7119 and the number of accepted is  2561\n"
     ]
    },
    {
     "data": {
      "image/png": "[encoded data removed]",
      "text/plain": [
       "<matplotlib.figure.Figure at 0x1858ef940b8>"
      ]
     },
     "metadata": {},
     "output_type": "display_data"
    }
   ],
   "source": [
    "# question 3\n",
    "trace_2, accpeted_2 = metropolis(10**4, 0.5, 'uspace')\n",
    "plt.plot(trace_2)\n",
    "print(\"The estimated delta is {0: .4f} and the number of accepted is {1: }\"\n",
    "          .format(trace_2[-1], accpeted_2))"
   ]
  },
  {
   "cell_type": "markdown",
   "metadata": {},
   "source": [
    "Question4: We obtain a more acuurate estimated value for $\\delta$ but with a low acceptance number. However, the transformation in the U-space allows us to accept at more times than the original model."
   ]
  },
  {
   "cell_type": "markdown",
   "metadata": {},
   "source": [
    "# Question 4\n",
    "\n",
    "Carlin (1992) considers a Bayesian approach to meta-analysis, and includes the following examples of 22 trials of beta-blockers to prevent mortality after myocardial infarction. These data are given below.\n",
    "\n",
    "In one possible random effects model we assume the true baseline mean (on a log-odds scale) $m_i$ in a trial $i$\n",
    "is drawn from some population distribution. Let $r^C_i$ denote number of events in the control group in trial $i$, and $r^T_i$ denote events under active treatment in trial $i$. Our model is:\n",
    "\n",
    "$$\\begin{aligned}\n",
    "r^C_i &\\sim \\text{Binomial}\\left(p^C_i, n^C_i\\right) \\\\\n",
    "r^T_i &\\sim \\text{Binomial}\\left(p^T_i, n^T_i\\right) \\\\\n",
    "\\text{logit}\\left(p^C_i\\right) &= \\mu_i \\\\\n",
    "\\text{logit}\\left(p^T_i\\right) &= \\mu_i + \\delta \\\\\n",
    "\\mu_i &\\sim \\text{Normal}(m, s).\n",
    "\\end{aligned}$$\n",
    "\n",
    "In this case, we want to make inferences about the population effect $m$, and the predictive distribution for the effect $\\delta_{\\text{new}}$ in a new trial. \n",
    "\n",
    "This particular model uses a random effect for the population mean, and a fixed effect for the treatment effect. There are 3 other models you could fit to represent all possible combinations of fixed or random effects for these two parameters.\n",
    "\n",
    "Build all 4 models to estimate the treatment effect in PyMC3 and \n",
    "\n",
    "1. use convergence diagnostics to check for convergence in each model \n",
    "2. use posterior predictive checks to compare the fit of the models\n",
    "3. use DIC to compare the models as approximations of the true generating model\n",
    "\n",
    "Which model would you select and why?"
   ]
  },
  {
   "cell_type": "code",
   "execution_count": 2,
   "metadata": {
    "collapsed": true
   },
   "outputs": [],
   "source": [
    "r_t_obs = [3, 7, 5, 102, 28, 4, 98, 60, 25, 138, 64, 45, 9, 57, 25, 33, 28, 8, 6, 32, 27, 22]\n",
    "n_t_obs = [38, 114, 69, 1533, 355, 59, 945, 632, 278,1916, 873, 263, 291, 858, 154, 207, 251, 151, 174, 209, 391, 680]\n",
    "r_c_obs = [3, 14, 11, 127, 27, 6, 152, 48, 37, 188, 52, 47, 16, 45, 31, 38, 12, 6, 3, 40, 43, 39]\n",
    "n_c_obs = [39, 116, 93, 1520, 365, 52, 939, 471, 282, 1921, 583, 266, 293, 883, 147, 213, 122, 154, 134, 218, 364, 674]\n",
    "N = len(n_c_obs)"
   ]
  },
  {
   "cell_type": "code",
   "execution_count": 5,
   "metadata": {},
   "outputs": [
    {
     "name": "stderr",
     "output_type": "stream",
     "text": [
      "logp = -inf, ||grad|| = 5,100.4: 100%|█████████| 3/3 [00:00<00:00, 1207.23it/s]\n",
      "  0%|                                                 | 0/1500 [00:00<?, ?it/s]\n"
     ]
    },
    {
     "ename": "ValueError",
     "evalue": "Input dimension mis-match. (input[0].shape[0] = 1, input[3].shape[0] = 22)\nApply node that caused the error: Elemwise{Composite{Switch(Identity(GT(i0, i1)), (i2 * ((-(Composite{inv(sqr(i0))}(i0) * sqr((i3 - i4)))) + log((i5 * Composite{inv(sqr(i0))}(i0))))), i6)}}(s_shared, TensorConstant{(1,) of 0}, TensorConstant{(1,) of 0.5}, mu_shared, m_shared, TensorConstant{(1,) of 0...9154943092}, TensorConstant{(1,) of -inf})\nToposort index: 3\nInputs types: [TensorType(float64, vector), TensorType(int8, (True,)), TensorType(float64, (True,)), TensorType(float64, vector), TensorType(float64, vector), TensorType(float64, (True,)), TensorType(float32, (True,))]\nInputs shapes: [(1,), (1,), (1,), (22,), (1,), (1,), (1,)]\nInputs strides: [(8,), (1,), (8,), (8,), (8,), (8,), (4,)]\nInputs values: [array([ 0.]), array([0], dtype=int8), array([ 0.5]), 'not shown', array([ 0.]), array([ 0.15915494]), array([-inf], dtype=float32)]\nOutputs clients: [[Sum{acc_dtype=float64}(Elemwise{Composite{Switch(Identity(GT(i0, i1)), (i2 * ((-(Composite{inv(sqr(i0))}(i0) * sqr((i3 - i4)))) + log((i5 * Composite{inv(sqr(i0))}(i0))))), i6)}}.0)]]\n\nHINT: Re-running with most Theano optimization disabled could give you a back-trace of when this node was created. This can be done with by setting the Theano flag 'optimizer=fast_compile'. If that does not work, Theano optimizations can be disabled with 'optimizer=None'.\nHINT: Use the Theano flag 'exception_verbosity=high' for a debugprint and storage map footprint of this apply node.",
     "output_type": "error",
     "traceback": [
      "\u001b[1;31m---------------------------------------------------------------------------\u001b[0m",
      "\u001b[1;31mValueError\u001b[0m                                Traceback (most recent call last)",
      "\u001b[1;32m~\\AppData\\Local\\conda\\conda\\envs\\myenv\\lib\\site-packages\\theano\\compile\\function_module.py\u001b[0m in \u001b[0;36m__call__\u001b[1;34m(self, *args, **kwargs)\u001b[0m\n\u001b[0;32m    883\u001b[0m             \u001b[0moutputs\u001b[0m \u001b[1;33m=\u001b[0m\u001b[0;31m\\\u001b[0m\u001b[1;33m\u001b[0m\u001b[0m\n\u001b[1;32m--> 884\u001b[1;33m                 \u001b[0mself\u001b[0m\u001b[1;33m.\u001b[0m\u001b[0mfn\u001b[0m\u001b[1;33m(\u001b[0m\u001b[1;33m)\u001b[0m \u001b[1;32mif\u001b[0m \u001b[0moutput_subset\u001b[0m \u001b[1;32mis\u001b[0m \u001b[1;32mNone\u001b[0m \u001b[1;32melse\u001b[0m\u001b[0;31m\\\u001b[0m\u001b[1;33m\u001b[0m\u001b[0m\n\u001b[0m\u001b[0;32m    885\u001b[0m                 \u001b[0mself\u001b[0m\u001b[1;33m.\u001b[0m\u001b[0mfn\u001b[0m\u001b[1;33m(\u001b[0m\u001b[0moutput_subset\u001b[0m\u001b[1;33m=\u001b[0m\u001b[0moutput_subset\u001b[0m\u001b[1;33m)\u001b[0m\u001b[1;33m\u001b[0m\u001b[0m\n",
      "\u001b[1;31mValueError\u001b[0m: Input dimension mis-match. (input[0].shape[0] = 1, input[3].shape[0] = 22)",
      "\nDuring handling of the above exception, another exception occurred:\n",
      "\u001b[1;31mValueError\u001b[0m                                Traceback (most recent call last)",
      "\u001b[1;32m<ipython-input-5-9714412962b8>\u001b[0m in \u001b[0;36m<module>\u001b[1;34m()\u001b[0m\n\u001b[0;32m     20\u001b[0m \u001b[1;33m\u001b[0m\u001b[0m\n\u001b[0;32m     21\u001b[0m     \u001b[0mstart\u001b[0m \u001b[1;33m=\u001b[0m \u001b[0mpm\u001b[0m\u001b[1;33m.\u001b[0m\u001b[0mfind_MAP\u001b[0m\u001b[1;33m(\u001b[0m\u001b[1;33m)\u001b[0m\u001b[1;33m\u001b[0m\u001b[0m\n\u001b[1;32m---> 22\u001b[1;33m     \u001b[0mtrace\u001b[0m \u001b[1;33m=\u001b[0m \u001b[0mpm\u001b[0m\u001b[1;33m.\u001b[0m\u001b[0msample\u001b[0m\u001b[1;33m(\u001b[0m\u001b[1;36m1000\u001b[0m\u001b[1;33m,\u001b[0m \u001b[0mstart\u001b[0m\u001b[1;33m=\u001b[0m\u001b[0mstart\u001b[0m\u001b[1;33m,\u001b[0m \u001b[0mstep\u001b[0m\u001b[1;33m=\u001b[0m\u001b[0mpm\u001b[0m\u001b[1;33m.\u001b[0m\u001b[0mMetropolis\u001b[0m\u001b[1;33m(\u001b[0m\u001b[1;33m)\u001b[0m\u001b[1;33m,\u001b[0m \u001b[0mrandom_seed\u001b[0m \u001b[1;33m=\u001b[0m \u001b[1;36m42\u001b[0m\u001b[1;33m)\u001b[0m\u001b[1;33m\u001b[0m\u001b[0m\n\u001b[0m\u001b[0;32m     23\u001b[0m     \u001b[0mpm\u001b[0m\u001b[1;33m.\u001b[0m\u001b[0mtraceplot\u001b[0m\u001b[1;33m(\u001b[0m\u001b[0mtrace\u001b[0m\u001b[1;33m)\u001b[0m\u001b[1;33m\u001b[0m\u001b[0m\n\u001b[0;32m     24\u001b[0m \u001b[1;33m\u001b[0m\u001b[0m\n",
      "\u001b[1;32m~\\AppData\\Local\\conda\\conda\\envs\\myenv\\lib\\site-packages\\pymc3\\sampling.py\u001b[0m in \u001b[0;36msample\u001b[1;34m(draws, step, init, n_init, start, trace, chain, njobs, tune, nuts_kwargs, step_kwargs, progressbar, model, random_seed, live_plot, discard_tuned_samples, live_plot_kwargs, **kwargs)\u001b[0m\n\u001b[0;32m    283\u001b[0m     \u001b[0mdiscard\u001b[0m \u001b[1;33m=\u001b[0m \u001b[0mtune\u001b[0m \u001b[1;32mif\u001b[0m \u001b[0mdiscard_tuned_samples\u001b[0m \u001b[1;32melse\u001b[0m \u001b[1;36m0\u001b[0m\u001b[1;33m\u001b[0m\u001b[0m\n\u001b[0;32m    284\u001b[0m \u001b[1;33m\u001b[0m\u001b[0m\n\u001b[1;32m--> 285\u001b[1;33m     \u001b[1;32mreturn\u001b[0m \u001b[0msample_func\u001b[0m\u001b[1;33m(\u001b[0m\u001b[1;33m**\u001b[0m\u001b[0msample_args\u001b[0m\u001b[1;33m)\u001b[0m\u001b[1;33m[\u001b[0m\u001b[0mdiscard\u001b[0m\u001b[1;33m:\u001b[0m\u001b[1;33m]\u001b[0m\u001b[1;33m\u001b[0m\u001b[0m\n\u001b[0m\u001b[0;32m    286\u001b[0m \u001b[1;33m\u001b[0m\u001b[0m\n\u001b[0;32m    287\u001b[0m \u001b[1;33m\u001b[0m\u001b[0m\n",
      "\u001b[1;32m~\\AppData\\Local\\conda\\conda\\envs\\myenv\\lib\\site-packages\\pymc3\\sampling.py\u001b[0m in \u001b[0;36m_sample\u001b[1;34m(draws, step, start, trace, chain, tune, progressbar, model, random_seed, live_plot, live_plot_kwargs, **kwargs)\u001b[0m\n\u001b[0;32m    330\u001b[0m     \u001b[1;32mtry\u001b[0m\u001b[1;33m:\u001b[0m\u001b[1;33m\u001b[0m\u001b[0m\n\u001b[0;32m    331\u001b[0m         \u001b[0mstrace\u001b[0m \u001b[1;33m=\u001b[0m \u001b[1;32mNone\u001b[0m\u001b[1;33m\u001b[0m\u001b[0m\n\u001b[1;32m--> 332\u001b[1;33m         \u001b[1;32mfor\u001b[0m \u001b[0mit\u001b[0m\u001b[1;33m,\u001b[0m \u001b[0mstrace\u001b[0m \u001b[1;32min\u001b[0m \u001b[0menumerate\u001b[0m\u001b[1;33m(\u001b[0m\u001b[0msampling\u001b[0m\u001b[1;33m)\u001b[0m\u001b[1;33m:\u001b[0m\u001b[1;33m\u001b[0m\u001b[0m\n\u001b[0m\u001b[0;32m    333\u001b[0m             \u001b[1;32mif\u001b[0m \u001b[0mlive_plot\u001b[0m\u001b[1;33m:\u001b[0m\u001b[1;33m\u001b[0m\u001b[0m\n\u001b[0;32m    334\u001b[0m                 \u001b[1;32mif\u001b[0m \u001b[0mlive_plot_kwargs\u001b[0m \u001b[1;32mis\u001b[0m \u001b[1;32mNone\u001b[0m\u001b[1;33m:\u001b[0m\u001b[1;33m\u001b[0m\u001b[0m\n",
      "\u001b[1;32m~\\AppData\\Local\\conda\\conda\\envs\\myenv\\lib\\site-packages\\tqdm\\_tqdm.py\u001b[0m in \u001b[0;36m__iter__\u001b[1;34m(self)\u001b[0m\n\u001b[0;32m    947\u001b[0m \"\"\", fp_write=getattr(self.fp, 'write', sys.stderr.write))\n\u001b[0;32m    948\u001b[0m \u001b[1;33m\u001b[0m\u001b[0m\n\u001b[1;32m--> 949\u001b[1;33m             \u001b[1;32mfor\u001b[0m \u001b[0mobj\u001b[0m \u001b[1;32min\u001b[0m \u001b[0miterable\u001b[0m\u001b[1;33m:\u001b[0m\u001b[1;33m\u001b[0m\u001b[0m\n\u001b[0m\u001b[0;32m    950\u001b[0m                 \u001b[1;32myield\u001b[0m \u001b[0mobj\u001b[0m\u001b[1;33m\u001b[0m\u001b[0m\n\u001b[0;32m    951\u001b[0m                 \u001b[1;31m# Update and possibly print the progressbar.\u001b[0m\u001b[1;33m\u001b[0m\u001b[1;33m\u001b[0m\u001b[0m\n",
      "\u001b[1;32m~\\AppData\\Local\\conda\\conda\\envs\\myenv\\lib\\site-packages\\pymc3\\sampling.py\u001b[0m in \u001b[0;36m_iter_sample\u001b[1;34m(draws, step, start, trace, chain, tune, model, random_seed)\u001b[0m\n\u001b[0;32m    428\u001b[0m                 \u001b[0mstep\u001b[0m \u001b[1;33m=\u001b[0m \u001b[0mstop_tuning\u001b[0m\u001b[1;33m(\u001b[0m\u001b[0mstep\u001b[0m\u001b[1;33m)\u001b[0m\u001b[1;33m\u001b[0m\u001b[0m\n\u001b[0;32m    429\u001b[0m             \u001b[1;32mif\u001b[0m \u001b[0mstep\u001b[0m\u001b[1;33m.\u001b[0m\u001b[0mgenerates_stats\u001b[0m\u001b[1;33m:\u001b[0m\u001b[1;33m\u001b[0m\u001b[0m\n\u001b[1;32m--> 430\u001b[1;33m                 \u001b[0mpoint\u001b[0m\u001b[1;33m,\u001b[0m \u001b[0mstates\u001b[0m \u001b[1;33m=\u001b[0m \u001b[0mstep\u001b[0m\u001b[1;33m.\u001b[0m\u001b[0mstep\u001b[0m\u001b[1;33m(\u001b[0m\u001b[0mpoint\u001b[0m\u001b[1;33m)\u001b[0m\u001b[1;33m\u001b[0m\u001b[0m\n\u001b[0m\u001b[0;32m    431\u001b[0m                 \u001b[1;32mif\u001b[0m \u001b[0mstrace\u001b[0m\u001b[1;33m.\u001b[0m\u001b[0msupports_sampler_stats\u001b[0m\u001b[1;33m:\u001b[0m\u001b[1;33m\u001b[0m\u001b[0m\n\u001b[0;32m    432\u001b[0m                     \u001b[0mstrace\u001b[0m\u001b[1;33m.\u001b[0m\u001b[0mrecord\u001b[0m\u001b[1;33m(\u001b[0m\u001b[0mpoint\u001b[0m\u001b[1;33m,\u001b[0m \u001b[0mstates\u001b[0m\u001b[1;33m)\u001b[0m\u001b[1;33m\u001b[0m\u001b[0m\n",
      "\u001b[1;32m~\\AppData\\Local\\conda\\conda\\envs\\myenv\\lib\\site-packages\\pymc3\\step_methods\\compound.py\u001b[0m in \u001b[0;36mstep\u001b[1;34m(self, point)\u001b[0m\n\u001b[0;32m     22\u001b[0m             \u001b[1;32mfor\u001b[0m \u001b[0mmethod\u001b[0m \u001b[1;32min\u001b[0m \u001b[0mself\u001b[0m\u001b[1;33m.\u001b[0m\u001b[0mmethods\u001b[0m\u001b[1;33m:\u001b[0m\u001b[1;33m\u001b[0m\u001b[0m\n\u001b[0;32m     23\u001b[0m                 \u001b[1;32mif\u001b[0m \u001b[0mmethod\u001b[0m\u001b[1;33m.\u001b[0m\u001b[0mgenerates_stats\u001b[0m\u001b[1;33m:\u001b[0m\u001b[1;33m\u001b[0m\u001b[0m\n\u001b[1;32m---> 24\u001b[1;33m                     \u001b[0mpoint\u001b[0m\u001b[1;33m,\u001b[0m \u001b[0mstate\u001b[0m \u001b[1;33m=\u001b[0m \u001b[0mmethod\u001b[0m\u001b[1;33m.\u001b[0m\u001b[0mstep\u001b[0m\u001b[1;33m(\u001b[0m\u001b[0mpoint\u001b[0m\u001b[1;33m)\u001b[0m\u001b[1;33m\u001b[0m\u001b[0m\n\u001b[0m\u001b[0;32m     25\u001b[0m                     \u001b[0mstates\u001b[0m\u001b[1;33m.\u001b[0m\u001b[0mextend\u001b[0m\u001b[1;33m(\u001b[0m\u001b[0mstate\u001b[0m\u001b[1;33m)\u001b[0m\u001b[1;33m\u001b[0m\u001b[0m\n\u001b[0;32m     26\u001b[0m                 \u001b[1;32melse\u001b[0m\u001b[1;33m:\u001b[0m\u001b[1;33m\u001b[0m\u001b[0m\n",
      "\u001b[1;32m~\\AppData\\Local\\conda\\conda\\envs\\myenv\\lib\\site-packages\\pymc3\\step_methods\\arraystep.py\u001b[0m in \u001b[0;36mstep\u001b[1;34m(self, point)\u001b[0m\n\u001b[0;32m    151\u001b[0m \u001b[1;33m\u001b[0m\u001b[0m\n\u001b[0;32m    152\u001b[0m         \u001b[1;32mif\u001b[0m \u001b[0mself\u001b[0m\u001b[1;33m.\u001b[0m\u001b[0mgenerates_stats\u001b[0m\u001b[1;33m:\u001b[0m\u001b[1;33m\u001b[0m\u001b[0m\n\u001b[1;32m--> 153\u001b[1;33m             \u001b[0mapoint\u001b[0m\u001b[1;33m,\u001b[0m \u001b[0mstats\u001b[0m \u001b[1;33m=\u001b[0m \u001b[0mself\u001b[0m\u001b[1;33m.\u001b[0m\u001b[0mastep\u001b[0m\u001b[1;33m(\u001b[0m\u001b[0mbij\u001b[0m\u001b[1;33m.\u001b[0m\u001b[0mmap\u001b[0m\u001b[1;33m(\u001b[0m\u001b[0mpoint\u001b[0m\u001b[1;33m)\u001b[0m\u001b[1;33m)\u001b[0m\u001b[1;33m\u001b[0m\u001b[0m\n\u001b[0m\u001b[0;32m    154\u001b[0m             \u001b[1;32mreturn\u001b[0m \u001b[0mbij\u001b[0m\u001b[1;33m.\u001b[0m\u001b[0mrmap\u001b[0m\u001b[1;33m(\u001b[0m\u001b[0mapoint\u001b[0m\u001b[1;33m)\u001b[0m\u001b[1;33m,\u001b[0m \u001b[0mstats\u001b[0m\u001b[1;33m\u001b[0m\u001b[0m\n\u001b[0;32m    155\u001b[0m         \u001b[1;32melse\u001b[0m\u001b[1;33m:\u001b[0m\u001b[1;33m\u001b[0m\u001b[0m\n",
      "\u001b[1;32m~\\AppData\\Local\\conda\\conda\\envs\\myenv\\lib\\site-packages\\pymc3\\step_methods\\metropolis.py\u001b[0m in \u001b[0;36mastep\u001b[1;34m(self, q0)\u001b[0m\n\u001b[0;32m    154\u001b[0m             \u001b[0mq\u001b[0m \u001b[1;33m=\u001b[0m \u001b[0mfloatX\u001b[0m\u001b[1;33m(\u001b[0m\u001b[0mq0\u001b[0m \u001b[1;33m+\u001b[0m \u001b[0mdelta\u001b[0m\u001b[1;33m)\u001b[0m\u001b[1;33m\u001b[0m\u001b[0m\n\u001b[0;32m    155\u001b[0m \u001b[1;33m\u001b[0m\u001b[0m\n\u001b[1;32m--> 156\u001b[1;33m         \u001b[0maccept\u001b[0m \u001b[1;33m=\u001b[0m \u001b[0mself\u001b[0m\u001b[1;33m.\u001b[0m\u001b[0mdelta_logp\u001b[0m\u001b[1;33m(\u001b[0m\u001b[0mq\u001b[0m\u001b[1;33m,\u001b[0m \u001b[0mq0\u001b[0m\u001b[1;33m)\u001b[0m\u001b[1;33m\u001b[0m\u001b[0m\n\u001b[0m\u001b[0;32m    157\u001b[0m         \u001b[0mq_new\u001b[0m\u001b[1;33m,\u001b[0m \u001b[0maccepted\u001b[0m \u001b[1;33m=\u001b[0m \u001b[0mmetrop_select\u001b[0m\u001b[1;33m(\u001b[0m\u001b[0maccept\u001b[0m\u001b[1;33m,\u001b[0m \u001b[0mq\u001b[0m\u001b[1;33m,\u001b[0m \u001b[0mq0\u001b[0m\u001b[1;33m)\u001b[0m\u001b[1;33m\u001b[0m\u001b[0m\n\u001b[0;32m    158\u001b[0m         \u001b[0mself\u001b[0m\u001b[1;33m.\u001b[0m\u001b[0maccepted\u001b[0m \u001b[1;33m+=\u001b[0m \u001b[0maccepted\u001b[0m\u001b[1;33m\u001b[0m\u001b[0m\n",
      "\u001b[1;32m~\\AppData\\Local\\conda\\conda\\envs\\myenv\\lib\\site-packages\\theano\\compile\\function_module.py\u001b[0m in \u001b[0;36m__call__\u001b[1;34m(self, *args, **kwargs)\u001b[0m\n\u001b[0;32m    896\u001b[0m                     \u001b[0mnode\u001b[0m\u001b[1;33m=\u001b[0m\u001b[0mself\u001b[0m\u001b[1;33m.\u001b[0m\u001b[0mfn\u001b[0m\u001b[1;33m.\u001b[0m\u001b[0mnodes\u001b[0m\u001b[1;33m[\u001b[0m\u001b[0mself\u001b[0m\u001b[1;33m.\u001b[0m\u001b[0mfn\u001b[0m\u001b[1;33m.\u001b[0m\u001b[0mposition_of_error\u001b[0m\u001b[1;33m]\u001b[0m\u001b[1;33m,\u001b[0m\u001b[1;33m\u001b[0m\u001b[0m\n\u001b[0;32m    897\u001b[0m                     \u001b[0mthunk\u001b[0m\u001b[1;33m=\u001b[0m\u001b[0mthunk\u001b[0m\u001b[1;33m,\u001b[0m\u001b[1;33m\u001b[0m\u001b[0m\n\u001b[1;32m--> 898\u001b[1;33m                     storage_map=getattr(self.fn, 'storage_map', None))\n\u001b[0m\u001b[0;32m    899\u001b[0m             \u001b[1;32melse\u001b[0m\u001b[1;33m:\u001b[0m\u001b[1;33m\u001b[0m\u001b[0m\n\u001b[0;32m    900\u001b[0m                 \u001b[1;31m# old-style linkers raise their own exceptions\u001b[0m\u001b[1;33m\u001b[0m\u001b[1;33m\u001b[0m\u001b[0m\n",
      "\u001b[1;32m~\\AppData\\Local\\conda\\conda\\envs\\myenv\\lib\\site-packages\\theano\\gof\\link.py\u001b[0m in \u001b[0;36mraise_with_op\u001b[1;34m(node, thunk, exc_info, storage_map)\u001b[0m\n\u001b[0;32m    323\u001b[0m         \u001b[1;31m# extra long error message in that case.\u001b[0m\u001b[1;33m\u001b[0m\u001b[1;33m\u001b[0m\u001b[0m\n\u001b[0;32m    324\u001b[0m         \u001b[1;32mpass\u001b[0m\u001b[1;33m\u001b[0m\u001b[0m\n\u001b[1;32m--> 325\u001b[1;33m     \u001b[0mreraise\u001b[0m\u001b[1;33m(\u001b[0m\u001b[0mexc_type\u001b[0m\u001b[1;33m,\u001b[0m \u001b[0mexc_value\u001b[0m\u001b[1;33m,\u001b[0m \u001b[0mexc_trace\u001b[0m\u001b[1;33m)\u001b[0m\u001b[1;33m\u001b[0m\u001b[0m\n\u001b[0m\u001b[0;32m    326\u001b[0m \u001b[1;33m\u001b[0m\u001b[0m\n\u001b[0;32m    327\u001b[0m \u001b[1;33m\u001b[0m\u001b[0m\n",
      "\u001b[1;32m~\\AppData\\Local\\conda\\conda\\envs\\myenv\\lib\\site-packages\\six.py\u001b[0m in \u001b[0;36mreraise\u001b[1;34m(tp, value, tb)\u001b[0m\n\u001b[0;32m    683\u001b[0m             \u001b[0mvalue\u001b[0m \u001b[1;33m=\u001b[0m \u001b[0mtp\u001b[0m\u001b[1;33m(\u001b[0m\u001b[1;33m)\u001b[0m\u001b[1;33m\u001b[0m\u001b[0m\n\u001b[0;32m    684\u001b[0m         \u001b[1;32mif\u001b[0m \u001b[0mvalue\u001b[0m\u001b[1;33m.\u001b[0m\u001b[0m__traceback__\u001b[0m \u001b[1;32mis\u001b[0m \u001b[1;32mnot\u001b[0m \u001b[0mtb\u001b[0m\u001b[1;33m:\u001b[0m\u001b[1;33m\u001b[0m\u001b[0m\n\u001b[1;32m--> 685\u001b[1;33m             \u001b[1;32mraise\u001b[0m \u001b[0mvalue\u001b[0m\u001b[1;33m.\u001b[0m\u001b[0mwith_traceback\u001b[0m\u001b[1;33m(\u001b[0m\u001b[0mtb\u001b[0m\u001b[1;33m)\u001b[0m\u001b[1;33m\u001b[0m\u001b[0m\n\u001b[0m\u001b[0;32m    686\u001b[0m         \u001b[1;32mraise\u001b[0m \u001b[0mvalue\u001b[0m\u001b[1;33m\u001b[0m\u001b[0m\n\u001b[0;32m    687\u001b[0m \u001b[1;33m\u001b[0m\u001b[0m\n",
      "\u001b[1;32m~\\AppData\\Local\\conda\\conda\\envs\\myenv\\lib\\site-packages\\theano\\compile\\function_module.py\u001b[0m in \u001b[0;36m__call__\u001b[1;34m(self, *args, **kwargs)\u001b[0m\n\u001b[0;32m    882\u001b[0m         \u001b[1;32mtry\u001b[0m\u001b[1;33m:\u001b[0m\u001b[1;33m\u001b[0m\u001b[0m\n\u001b[0;32m    883\u001b[0m             \u001b[0moutputs\u001b[0m \u001b[1;33m=\u001b[0m\u001b[0;31m\\\u001b[0m\u001b[1;33m\u001b[0m\u001b[0m\n\u001b[1;32m--> 884\u001b[1;33m                 \u001b[0mself\u001b[0m\u001b[1;33m.\u001b[0m\u001b[0mfn\u001b[0m\u001b[1;33m(\u001b[0m\u001b[1;33m)\u001b[0m \u001b[1;32mif\u001b[0m \u001b[0moutput_subset\u001b[0m \u001b[1;32mis\u001b[0m \u001b[1;32mNone\u001b[0m \u001b[1;32melse\u001b[0m\u001b[0;31m\\\u001b[0m\u001b[1;33m\u001b[0m\u001b[0m\n\u001b[0m\u001b[0;32m    885\u001b[0m                 \u001b[0mself\u001b[0m\u001b[1;33m.\u001b[0m\u001b[0mfn\u001b[0m\u001b[1;33m(\u001b[0m\u001b[0moutput_subset\u001b[0m\u001b[1;33m=\u001b[0m\u001b[0moutput_subset\u001b[0m\u001b[1;33m)\u001b[0m\u001b[1;33m\u001b[0m\u001b[0m\n\u001b[0;32m    886\u001b[0m         \u001b[1;32mexcept\u001b[0m \u001b[0mException\u001b[0m\u001b[1;33m:\u001b[0m\u001b[1;33m\u001b[0m\u001b[0m\n",
      "\u001b[1;31mValueError\u001b[0m: Input dimension mis-match. (input[0].shape[0] = 1, input[3].shape[0] = 22)\nApply node that caused the error: Elemwise{Composite{Switch(Identity(GT(i0, i1)), (i2 * ((-(Composite{inv(sqr(i0))}(i0) * sqr((i3 - i4)))) + log((i5 * Composite{inv(sqr(i0))}(i0))))), i6)}}(s_shared, TensorConstant{(1,) of 0}, TensorConstant{(1,) of 0.5}, mu_shared, m_shared, TensorConstant{(1,) of 0...9154943092}, TensorConstant{(1,) of -inf})\nToposort index: 3\nInputs types: [TensorType(float64, vector), TensorType(int8, (True,)), TensorType(float64, (True,)), TensorType(float64, vector), TensorType(float64, vector), TensorType(float64, (True,)), TensorType(float32, (True,))]\nInputs shapes: [(1,), (1,), (1,), (22,), (1,), (1,), (1,)]\nInputs strides: [(8,), (1,), (8,), (8,), (8,), (8,), (4,)]\nInputs values: [array([ 0.]), array([0], dtype=int8), array([ 0.5]), 'not shown', array([ 0.]), array([ 0.15915494]), array([-inf], dtype=float32)]\nOutputs clients: [[Sum{acc_dtype=float64}(Elemwise{Composite{Switch(Identity(GT(i0, i1)), (i2 * ((-(Composite{inv(sqr(i0))}(i0) * sqr((i3 - i4)))) + log((i5 * Composite{inv(sqr(i0))}(i0))))), i6)}}.0)]]\n\nHINT: Re-running with most Theano optimization disabled could give you a back-trace of when this node was created. This can be done with by setting the Theano flag 'optimizer=fast_compile'. If that does not work, Theano optimizations can be disabled with 'optimizer=None'.\nHINT: Use the Theano flag 'exception_verbosity=high' for a debugprint and storage map footprint of this apply node."
     ]
    }
   ],
   "source": [
    "# Write answer here\n",
    "import pymc3 as pm\n",
    "\n",
    "niter = 1000\n",
    "with pm.Model() as meta_analysis:\n",
    "    \n",
    "    ###priors on m and s\n",
    "    m = pm.Normal('m', mu=0.0, sd=1e5, shape=1)\n",
    "    s = pm.Normal('s', mu=0.0, sd=1e5, shape=1)\n",
    "\n",
    "    #priors on mu and delta\n",
    "    mu = pm.Normal('mu', mu=m, sd=s, shape = N)\n",
    "    delta = pm.Normal('delta', mu=0.0, sd=1e5, shape = 1)\n",
    "\n",
    "    p_c = pm.math.invlogit(np.array(mu))\n",
    "    p_t = pm.math.invlogit(np.array(mu+delta))\n",
    "\n",
    "    r_c = pm.Binomial('r_c', n_c_obs, p_c, observed=r_c_obs)\n",
    "    r_t = pm.Binomial('r_t', n_t_obs, p_t, observed=r_t_obs)\n",
    "    \n",
    "    start = pm.find_MAP()\n",
    "    trace = pm.sample(1000, start=start, step=pm.Metropolis(), random_seed = 42)\n",
    "    pm.traceplot(trace)\n",
    "    "
   ]
  },
  {
   "cell_type": "code",
   "execution_count": null,
   "metadata": {
    "collapsed": true
   },
   "outputs": [],
   "source": []
  }
 ],
 "metadata": {
  "anaconda-cloud": {},
  "kernelspec": {
   "display_name": "Python 3",
   "language": "python",
   "name": "python3"
  },
  "language_info": {
   "codemirror_mode": {
    "name": "ipython",
    "version": 3
   },
   "file_extension": ".py",
   "mimetype": "text/x-python",
   "name": "python",
   "nbconvert_exporter": "python",
   "pygments_lexer": "ipython3",
   "version": "3.5.4"
  },
  "latex_envs": {
   "bibliofile": "biblio.bib",
   "cite_by": "apalike",
   "current_citInitial": 1,
   "eqLabelWithNumbers": true,
   "eqNumInitial": 0
  },
  "nav_menu": {},
  "toc": {
   "navigate_menu": true,
   "number_sections": false,
   "sideBar": false,
   "threshold": "3",
   "toc_cell": false,
   "toc_section_display": "block",
   "toc_window_display": false
  },
  "toc_position": {
   "height": "84px",
   "left": "1112.66px",
   "right": "20px",
   "top": "120px",
   "width": "187px"
  }
 },
 "nbformat": 4,
 "nbformat_minor": 1
}
