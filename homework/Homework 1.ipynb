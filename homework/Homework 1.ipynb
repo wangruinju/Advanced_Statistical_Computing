{
 "cells": [
  {
   "cell_type": "markdown",
   "metadata": {},
   "source": [
    "Answer all questions and submit them either as an IPython notebook, LaTeX document, or Markdown document. Each question is worth 25 points.\n",
    "\n",
    "This homework is due Friday, September 22, 2017."
   ]
  },
  {
   "cell_type": "code",
   "execution_count": 1,
   "metadata": {
    "collapsed": true
   },
   "outputs": [],
   "source": [
    "%matplotlib inline\n",
    "import matplotlib.pyplot as plt\n",
    "import pandas as pd\n",
    "import numpy as np\n",
    "import scipy"
   ]
  },
  {
   "cell_type": "markdown",
   "metadata": {},
   "source": [
    "## Question 1\n",
    "\n",
    "The data below provides counts of a flour beetle (Tribolium confusum) population at various points in time:"
   ]
  },
  {
   "cell_type": "code",
   "execution_count": 2,
   "metadata": {},
   "outputs": [
    {
     "data": {
      "text/plain": [
       "[<matplotlib.lines.Line2D at 0x212cc5959b0>]"
      ]
     },
     "execution_count": 2,
     "metadata": {},
     "output_type": "execute_result"
    },
    {
     "data": {
      "image/png": "[encoded data removed]",
      "text/plain": [
       "<matplotlib.figure.Figure at 0x212cc3b8a58>"
      ]
     },
     "metadata": {},
     "output_type": "display_data"
    }
   ],
   "source": [
    "days = 0,8,28,41,63,79,97,117,135,154\n",
    "beetles = 2,47,192,256,768,896,1120,896,1184,1024\n",
    "\n",
    "plt.plot(days, beetles)"
   ]
  },
  {
   "cell_type": "markdown",
   "metadata": {},
   "source": [
    "An elementary model for population growth is the logistic model:\n",
    "\n",
    "$$\\frac{dN}{dt} = rN\\left(1 - \\frac{N}{K}\\right)$$\n",
    "\n",
    "where $N$ is population size, $t$ is time, $r$ is a growth rate parameter, and $K$ is a parameter that represents the population carrying capacity of the environment. The solution to this differential equation is given by: \n",
    "\n",
    "$$N_t = f(t) = \\frac{KN_0}{N_0 + (K - N_0)\\exp(-rt)}$$\n",
    "\n",
    "where $N_t$ denotes the population size at time $t$. \n",
    "\n",
    "1. Fit the logistic growth model to the flour beetle data using optimization to minimize the sum of squared errors between model predictions and observed counts.\n",
    "\n",
    "2. In many population modeling applications, an assumption of lognormality is adopted. The simplest assumption would be that the $\\log(N_t)$ are independent and normally distributed with mean $\\log[f(t)]$ and variance $\\sigma^2$. Find the MLEs under this assumption, and provide estimates of standard errors and correlation between them."
   ]
  },
  {
   "cell_type": "markdown",
   "metadata": {
    "collapsed": true
   },
   "source": [
    "Question 1.1\n",
    "We can rewrite the logistic model to:\n",
    "\n",
    "$$\\frac{d(log\\frac{p}{1-p})}{dt} = r, \\text{where } p = \\frac{N}{K}$$\n",
    "\n",
    "So we can $logistic(p)=rt+logistic(p_0), p = \\frac{N}{K} \\text{and } p_0 = \\frac{N_0}{K}$. Finally the solution comes as:\n",
    "\n",
    "$$N_t = f(t) = \\frac{KN_0}{N_0 + (K - N_0)\\exp(-rt)}$$\n",
    "\n",
    "Fit the logistic growth model to the flour beetle data using optimization to minimize the sum of squared errors between model predictions and observed counts.\n",
    "\n",
    "The cost function $J$ can be expressed as:\n",
    "$$J = \\frac{1}{2m} (\\hat{N_t} - N_t)^2 \\sim (\\hat{N_t} - N_t)^2$$\n"
   ]
  },
  {
   "cell_type": "code",
   "execution_count": 7,
   "metadata": {},
   "outputs": [
    {
     "name": "stdout",
     "output_type": "stream",
     "text": [
      "The first model using least square error gives K = 1033.515, r = 0.118\n"
     ]
    },
    {
     "data": {
      "text/plain": [
       "[<matplotlib.lines.Line2D at 0x212cce37b70>]"
      ]
     },
     "execution_count": 7,
     "metadata": {},
     "output_type": "execute_result"
    },
    {
     "data": {
      "image/png": "[encoded data removed]",
      "text/plain": [
       "<matplotlib.figure.Figure at 0x212cce3ea20>"
      ]
     },
     "metadata": {},
     "output_type": "display_data"
    }
   ],
   "source": [
    "# code for question 1.1\n",
    "def costfunc(theta):\n",
    "    K = theta[0]\n",
    "    r = theta[1]\n",
    "    N_0 = 2\n",
    "    t = days\n",
    "    N_t = beetles\n",
    "    N_t_hat = 1.0*N_0*K/(N_0+(K-N_0)*np.exp(-r*t))\n",
    "    return np.sum((N_t_hat - N_t)**2)\n",
    "\n",
    "days = np.array(days)\n",
    "beetles = np.array(beetles)\n",
    "# optimization\n",
    "from scipy.optimize import minimize\n",
    "# intialized guess\n",
    "\n",
    "theta = [500, 0.5]\n",
    "res = minimize(costfunc, theta, method='Nelder-Mead', tol = 1e-6)\n",
    "K = res.x[0]\n",
    "r = res.x[1]\n",
    "print(\"The first model using least square error gives K = %.3f, r = %.3f\" % (K, r))\n",
    "N_0 = 2\n",
    "model1 = 1.0*N_0*K/(N_0+(K-N_0)*np.exp(-r*days))\n",
    "\n",
    "# plot vs the original\n",
    "plt.plot(days, beetles, c = 'b')\n",
    "plt.plot(days, model1, c = 'r')"
   ]
  },
  {
   "cell_type": "markdown",
   "metadata": {},
   "source": [
    "Question 1.2 The assumptions:\n",
    "\n",
    "$$ log(N_t) \\sim N(f(t), \\sigma^2)$$\n",
    "Get the log-likelihood for each data point based on the normal model and add them up to minimize. Since we need to provide estimates of standard errors and correlation between them, let's bootstrap the 10-point dataset for 1000 times and obtain $K_i$ and $r_i$ in each loop. Finally, calculate each strandard error and their correlation."
   ]
  },
  {
   "cell_type": "code",
   "execution_count": 14,
   "metadata": {},
   "outputs": [
    {
     "name": "stderr",
     "output_type": "stream",
     "text": [
      "C:\\Users\\Rui\\AppData\\Local\\conda\\conda\\envs\\myenv\\lib\\site-packages\\scipy\\stats\\_distn_infrastructure.py:1691: RuntimeWarning: divide by zero encountered in true_divide\n",
      "  x = np.asarray((x - loc)/scale, dtype=dtyp)\n",
      "C:\\Users\\Rui\\AppData\\Local\\conda\\conda\\envs\\myenv\\lib\\site-packages\\scipy\\stats\\_distn_infrastructure.py:1691: RuntimeWarning: invalid value encountered in true_divide\n",
      "  x = np.asarray((x - loc)/scale, dtype=dtyp)\n",
      "C:\\Users\\Rui\\AppData\\Local\\conda\\conda\\envs\\myenv\\lib\\site-packages\\scipy\\stats\\_distn_infrastructure.py:876: RuntimeWarning: invalid value encountered in greater_equal\n",
      "  return (self.a <= x) & (x <= self.b)\n",
      "C:\\Users\\Rui\\AppData\\Local\\conda\\conda\\envs\\myenv\\lib\\site-packages\\scipy\\stats\\_distn_infrastructure.py:876: RuntimeWarning: invalid value encountered in less_equal\n",
      "  return (self.a <= x) & (x <= self.b)\n"
     ]
    },
    {
     "name": "stdout",
     "output_type": "stream",
     "text": [
      "The standard error of K is 34511.571.\n",
      "The standard error of r is 0.073.\n",
      "The standard error of var is 0.041.\n",
      "The correlation between K and r is -0.208.\n",
      "The correlation between r and var is 0.187.\n",
      "The correlation between var and K is -0.859.\n"
     ]
    }
   ],
   "source": [
    "# code for question 1.2\n",
    "from scipy.stats import norm\n",
    "\n",
    "def loglikelihood(theta):\n",
    "    K = theta[0]\n",
    "    r = theta[1]\n",
    "    var = theta[2]\n",
    "    t = new_days\n",
    "    x = new_beetles\n",
    "    N_0 = 2\n",
    "    # will use minimize, multiply by -1 instead\n",
    "    return -1.0*np.sum(norm.logpdf(np.log(x),loc=np.log(1.0*N_0*K/(N_0+(K-N_0)*np.exp(-r*t))),scale=var))\n",
    "\n",
    "# intialize at each loop\n",
    "n = 1000\n",
    "K_para = np.zeros(n)\n",
    "r_para = np.zeros(n)\n",
    "var_para = np.zeros(n)\n",
    "counter = np.random.randint(len(days), size =(n, len(days)))\n",
    "new_days = np.zeros(days.shape)\n",
    "new_beetles = np.zeros(beetles.shape)\n",
    "\n",
    "for i in range(n):\n",
    "    index = counter[i]\n",
    "    new_days = np.take(days, index)\n",
    "    new_beetles = np.take(beetles, index)\n",
    "    theta = [500, 0.5, np.var(np.log(new_beetles))]\n",
    "    res = minimize(loglikelihood, theta, method='Nelder-Mead', tol = 1e-6)\n",
    "    K_para[i] = res.x[0]\n",
    "    r_para[i] = res.x[1]\n",
    "    var_para[i] = res.x[2]\n",
    "\n",
    "print(\"The standard error of K is %.3f.\" % np.var(K_para))\n",
    "print(\"The standard error of r is %.3f.\" % np.var(r_para))\n",
    "print(\"The standard error of var is %.3f.\" % np.var(var_para))\n",
    "print(\"The correlation between K and r is %.3f.\" % np.corrcoef(K_para, r_para)[0,1])\n",
    "print(\"The correlation between r and var is %.3f.\" % np.corrcoef(r_para, var_para)[0,1])\n",
    "print(\"The correlation between var and K is %.3f.\" % np.corrcoef(var_para, K_para)[0,1])"
   ]
  },
  {
   "cell_type": "markdown",
   "metadata": {},
   "source": [
    "## Question 2\n",
    "\n",
    "1. Implement simulated annealing for minimizing the AIC for the baseball salary regression problem. Model your algorithm on the example given in class. \n",
    "\n",
    "    1. Compare the effects of different cooling schedules (different temperatures and different durations at each temperature).  \n",
    "    2. Compare the effect of a proposal distribution that is discrete uniform over 2-neighborhoods versus one that is discrete uniform over 3-neighborhoods.\n",
    "\n",
    "2. Implement a genetic algorithm for minimizing the AIC for the baseball salary regression problem. Model your algorithm on Example 3.5. \n",
    "\n",
    "    1. Compare the effects of using different mutation rates.  \n",
    "    2. Compare the effects of using different generation sizes.  \n",
    "    3. Instead of the selection mechanism used in the class example, try using independent selection of both parents with probabilities proportional to their fitness.\n",
    "\n"
   ]
  },
  {
   "cell_type": "code",
   "execution_count": null,
   "metadata": {
    "collapsed": true
   },
   "outputs": [],
   "source": [
    "baseball = pd.read_table('../data/baseball.dat', sep='\\s+')"
   ]
  },
  {
   "cell_type": "code",
   "execution_count": null,
   "metadata": {
    "collapsed": true
   },
   "outputs": [],
   "source": [
    "# Write your answer here"
   ]
  },
  {
   "cell_type": "markdown",
   "metadata": {},
   "source": [
    "## Question 3\n",
    "\n",
    "Use the combinatorial optimization method of your choice to obtain a solution to the traveling salesman problem for the Brazilian cities described in the lecture notes, using minimum total distance as the criterion. Use the the first city listed in the dataset as \"home\" (*i.e.* the trip must start and end there). I will award 5 bonus points to the best solution!"
   ]
  },
  {
   "cell_type": "code",
   "execution_count": null,
   "metadata": {},
   "outputs": [],
   "source": [
    "def parse_latlon(x):\n",
    "    d, m, s = map(float, x.split(':'))\n",
    "    ms = m/60. + s/3600.\n",
    "    if d<0:\n",
    "        return d - ms\n",
    "    return d + ms\n",
    "\n",
    "cities =  pd.read_csv('../data/brasil_capitals.txt', \n",
    "                      names=['city','lat','lon'])[['lat','lon']].applymap(parse_latlon)"
   ]
  },
  {
   "cell_type": "code",
   "execution_count": null,
   "metadata": {
    "collapsed": true
   },
   "outputs": [],
   "source": [
    "# Write your answer here"
   ]
  },
  {
   "cell_type": "markdown",
   "metadata": {},
   "source": [
    "## Question 4\n",
    "\n",
    "The `../data/ebola` folder contains summarized reports of Ebola cases from three countries during the recent outbreak of the disease in West Africa. For each country, there are daily reports that contain various information about the outbreak in several cities in each country.\n",
    "\n",
    "From these data files, use `pandas` to import them and create a single data frame that includes the daily totals of new cases and deaths for each country."
   ]
  },
  {
   "cell_type": "code",
   "execution_count": null,
   "metadata": {},
   "outputs": [],
   "source": [
    "!pwd"
   ]
  },
  {
   "cell_type": "code",
   "execution_count": null,
   "metadata": {
    "collapsed": true
   },
   "outputs": [],
   "source": [
    "import os\n",
    "import glob\n",
    "import pandas as pd\n",
    "\n",
    "# three paths\n",
    "path1 =r'/Users/ruiwang/source/bios_8366/data/ebola/guinea_data'\n",
    "path2 =r'/Users/ruiwang/source/bios_8366/data/ebola/liberia_data'\n",
    "path3 =r'/Users/ruiwang/source/bios_8366/data/ebola/sl_data'\n",
    "\n",
    "# add up\n",
    "allFiles = []\n",
    "for path in [path1, path2, path3]:\n",
    "    allFiles += glob.glob(path + \"/*.csv\")\n",
    "\n",
    "ebola = pd.DataFrame()\n",
    "list_ = []\n",
    "for file_ in allFiles:\n",
    "    df = pd.read_csv(file_,index_col=None, header=0)\n",
    "    list_.append(df)\n",
    "\n",
    "ebola = pd.concat(list_)\n",
    "\n",
    "# rearrange the columns\n",
    "col = ebola.columns.tolist()\n",
    "for x in ['Date', 'Description', 'Totals']:\n",
    "    col.remove(x)\n",
    "col = ['Date', 'Description', 'Totals'] + col\n",
    "ebola = ebola[col].fillna(0)\n",
    "ebola = ebola[ebola['Description'] == 'Total new cases registered so far']"
   ]
  },
  {
   "cell_type": "code",
   "execution_count": null,
   "metadata": {},
   "outputs": [],
   "source": [
    "col"
   ]
  },
  {
   "cell_type": "code",
   "execution_count": null,
   "metadata": {},
   "outputs": [],
   "source": [
    "ebola"
   ]
  },
  {
   "cell_type": "code",
   "execution_count": null,
   "metadata": {
    "collapsed": true
   },
   "outputs": [],
   "source": []
  }
 ],
 "metadata": {
  "anaconda-cloud": {},
  "kernelspec": {
   "display_name": "Python 3",
   "language": "python",
   "name": "python3"
  },
  "language_info": {
   "codemirror_mode": {
    "name": "ipython",
    "version": 3
   },
   "file_extension": ".py",
   "mimetype": "text/x-python",
   "name": "python",
   "nbconvert_exporter": "python",
   "pygments_lexer": "ipython3",
   "version": "3.5.4"
  }
 },
 "nbformat": 4,
 "nbformat_minor": 1
}
