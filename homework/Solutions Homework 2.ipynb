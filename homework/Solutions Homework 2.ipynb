{
 "cells": [
  {
   "cell_type": "markdown",
   "metadata": {},
   "source": [
    "# Homework 2 Key"
   ]
  },
  {
   "cell_type": "code",
   "execution_count": 1,
   "metadata": {
    "collapsed": true
   },
   "outputs": [],
   "source": [
    "%matplotlib inline\n",
    "import numpy as np\n",
    "import pymc3 as pm\n",
    "import pylab as plt\n",
    "import pandas as pd\n"
   ]
  },
  {
   "cell_type": "markdown",
   "metadata": {},
   "source": [
    "# Question 1\n",
    "\n",
    "Epidemiologists are interested in studying the sexual behavior of individuals at risk for HIV infection. Suppose 1500 gay men were surveyed and each was asked how many risky sexual encounters he had in the previous 30 days. Let $n_i$ denote the number of respondents reporting $i$ encounters, for $i = 1, \\ldots , 16$. The DataFrame below contains these reponses:"
   ]
  },
  {
   "cell_type": "code",
   "execution_count": 2,
   "metadata": {
    "collapsed": false
   },
   "outputs": [
    {
     "data": {
      "text/plain": [
       "<matplotlib.axes._subplots.AxesSubplot at 0x1113432e8>"
      ]
     },
     "execution_count": 2,
     "metadata": {},
     "output_type": "execute_result"
    },
    {
     "data": {
      "image/png": "[encoded data removed]",
      "text/plain": [
       "<matplotlib.figure.Figure at 0x111327a20>"
      ]
     },
     "metadata": {},
     "output_type": "display_data"
    }
   ],
   "source": [
    "encounters = pd.DataFrame({'count': np.arange(17),\n",
    "                          'freq': [379, 299, 222, 145, 109, 95, 73, 59,\n",
    "                                  45, 30, 24, 12, 4, 2, 0, 1, 1]})\n",
    "\n",
    "encounters.freq.plot.bar()"
   ]
  },
  {
   "cell_type": "markdown",
   "metadata": {},
   "source": [
    "These data are poorly fitted by a Poisson model. It is more realistic to assume that the respondents comprise three groups. First, there is a group of people who, for whatever reason, report zero risky encounters even if this is not true. Suppose a respondent has probability $\\alpha$ of belonging to this group. \n",
    "\n",
    "With probability $\\beta$, a respondent belongs to a second group representing typical behavior. Such people respond truthfully, and their numbers of risky encounters are assumed to follow a $\\text{Poisson}(\\mu)$ distribution. \n",
    "\n",
    "Finally, with probability $1 − \\alpha − \\beta$, a respondent belongs to a high-risk group. Such people respond truthfully, and their numbers of risky encounters are assumed to follow a $\\text{Poisson}(\\lambda)$ distribution. \n",
    "\n",
    "The parameters in the model are $\\alpha, \\beta, \\mu$ and $\\lambda$. At the $t^{th}$ iteration of EM, we use $\\theta^{(t)} = (\\alpha^{(t)}, \\beta^{(t)}, \\mu^{(t)}, \\lambda^{(t)})$ to denote the current parameter values. The likelihood of the observed data is given by:\n",
    "\n",
    "$$L(\\theta | n_0, \\ldots, n_{16}) \\propto \\prod_{i=0}^{16} \\left[ \\frac{\\pi_i(\\theta)}{i!} \\right]^{n_i}$$\n",
    "\n",
    "where $\\pi_i(\\theta) = \\alpha 1_{(i=0)} + \\beta \\mu^i \\exp(-\\mu) + (1-\\alpha - \\beta) \\lambda^i \\exp(-\\lambda)$.\n",
    "\n",
    "The observed data are in the `encounters` table above; the *complete* data may be construed to be $(n_{z,0}, n_{t,0}, n_{p,0}), \\ldots, (n_{z,16}, n_{t,16}, n_{p,16})$, where $k = z, t, p$ correspond to zero, typical and promiscuous groups, respectively. That is, $n_0 = n_{z,0} + n_{t,0} + n_{p,0}$, and so on. Let $N = \\sum_{i=0}^{16} n_i = 1500$.\n",
    "\n",
    "Also define:\n",
    "\n",
    "$$\\begin{align}\n",
    "z_0(\\theta) &=& \\frac{\\alpha}{\\pi_0(\\theta)} \\\\\n",
    "t_i(\\theta) &=& \\frac{\\beta \\mu^i \\exp(-\\mu)}{\\pi_i(\\theta)} \\\\\n",
    "p_i(\\theta) &=& \\frac{(1-\\alpha-\\beta)\\lambda^i \\exp(-\\lambda)}{\\pi_i(\\theta)}\n",
    "\\end{align}$$\n",
    "\n",
    "which correspond to probabilities that respondents with $i$ risky encounters belong to various groups.\n",
    "\n",
    "a. Show that the EM algorithm provides the following updates:\n",
    "\n",
    "$$\\begin{align}\n",
    "\\alpha^{(t+1)} &=& \\frac{n_0 z_0(\\theta^{(t)})}{N} \\\\\n",
    "\\beta^{(t+1)} &=& \\sum_i \\frac{n_i t_i(\\theta^{(t)})}{N} \\\\\n",
    "\\mu^{(t+1)} &=& \\frac{\\sum_i i n_i t_i(\\theta^{(t)})}{\\sum_i n_i t_i(\\theta^{(t)})} \\\\\n",
    "\\lambda^{(t+1)} &=& \\frac{\\sum_i i n_i p_i(\\theta^{(t)})}{\\sum_i n_i p_i(\\theta^{(t)})}\n",
    "\\end{align}$$\n",
    "\n",
    "\n",
    "b. Estimate the parameters of the model using the observed data."
   ]
  },
  {
   "cell_type": "markdown",
   "metadata": {},
   "source": [
    "# Answer to Question 1a\n",
    "\n",
    "We begin by introducing class indicator variable $k_i$ (formerly $z_i$ in the EM class notes) which takes on values $z,t,p$ and evaluate the complete log-likelihood function such that we have\n",
    "\n",
    "$$l(n|\\theta) = \\sum_i \\text{log} \\sum_{k_i}p(n_i, k_i | \\theta)$$\n",
    "\n",
    "allowing $\\theta = \\{\\alpha, \\beta, \\mu, \\lambda\\}$. Introducing densities for the values of $k$ at number of encounters $i$ as $z_i, t_i, p_i$, we can redefine the complete log-likelihod function as \n",
    "\n",
    "$$l(n|\\theta) = \\sum_i \\text{log}\\left(\\frac{z_i p(n_i, k_i | \\theta)}{z_i} + \\frac{t_i p(n_i, k_i | \\theta)}{t_i} + \\frac{p_i p(n_i, k_i | \\theta)}{p_i}\\right)$$\n",
    "\n",
    "Expanding and noting that $z_i = 0 ~~~ \\forall i \\ne 0$, we have\n",
    "\n",
    "$$l(n|\\theta) = n_0\\left[z_0 \\text{log}\\left(\\frac{\\alpha}{z_0}\\right) + t_0 \\text{log}\\left(\\frac{\\beta e^{-\\mu}}{t_0}\\right) + p_0 \\text{log}\\left(\\frac{(1-\\alpha-\\beta)e^{-\\lambda}}{p_0}\\right) + \\sum_{i = 1}^{16} n_i\\left[t_i \\text{log}\\left(\\frac{\\beta e^{-\\mu}\\mu^i}{t_i}\\right) + p_i \\text{log}\\left(\\frac{(1-\\alpha-\\beta)e^{-\\lambda}\\lambda^i}{p_i}\\right) \\right] \\right]$$\n",
    "\n",
    "\n",
    "We now can take the derivative with respect to $\\alpha, \\beta, \\mu, \\lambda$:\n",
    "\n",
    "$$\\frac{\\partial l(n|\\theta)}{\\partial \\alpha} = \\frac{n_0 z_0}{\\alpha} - \\sum_{i=0}^{16}\\frac{n_i p_i}{1-\\alpha-\\beta}$$\n",
    "\n",
    "Solving for $\\alpha$, we have \n",
    "\n",
    "$$\\hat{\\alpha} = \\frac{n_0 z_0(1-\\beta)}{\\sum_{i=0} n_i p_i + n_0z_0}$$\n",
    "\n",
    "\n",
    "$$\\frac{\\partial l(n|\\theta)}{\\partial \\beta} = \\sum_{i=0}^{16}\\frac{n_i t_i}{\\beta} - \\sum_{i=0}^{16}\\frac{n_i p_i}{1-\\alpha-\\beta}$$\n",
    "\n",
    "\n",
    "Solving for $\\beta$\n",
    "$$\\hat{\\beta} = \\frac{(1-\\alpha)\\sum_{i=0}^{16}n_i t_i}{\\sum_{i=0} n_i p_i + n_i t_i}$$\n",
    "\n",
    "\n",
    "$$\\frac{\\partial l(n|\\theta)}{\\partial \\mu} = -\\sum_{i=0}^{16}n_i t_i + \\sum_{i=1}^{16}\\frac{i n_i t_i}{\\mu}$$\n",
    "\n",
    "Solving for $\\mu$:\n",
    "$$\\mu = \\frac{\\sum_{i=1}^{16}i n_i t_i}{\\sum_{i=0}^{16} n_i t_i} = \\frac{\\sum_{i=0}^{16}i n_i t_i}{\\sum_{i=0}^{16}n_i t_i}$$\n",
    "\n",
    "\n",
    "$$\\frac{\\partial l(n|\\theta)}{\\partial \\lambda} = -\\sum_{i=0}^{16}n_i p_i + \\sum_{i=1}^{16}\\frac{i n_i p_i}{\\lambda}$$\n",
    "\n",
    "Solving for $\\lambda$:\n",
    "$$\\lambda = \\frac{\\sum_{i=0}^{16}i n_i p_i}{\\sum_{i=0}^{16}n_i p_i}$$\n",
    "\n",
    "\n"
   ]
  },
  {
   "cell_type": "markdown",
   "metadata": {},
   "source": [
    "# Answer to Question 1b\n",
    "To implement the EM algorithm, we write functions that take care of the E- and M-steps separately.  \n",
    "\n",
    "For the E-step, we want to compute estimates of the probabilities of group membership for our latent variable. Here, the latent variable is whether the person is classified as a zero responder, or has typical or promiscuous behavior. The probabilities of group membership are defined above using the $z_0(\\theta)$, $t_i(\\theta)$, and $p_i(\\theta)$ functions.  \n",
    "\n",
    "For the E-step, we simply write a function that evaluates these expressions given both the observed data and guesses at the parameter values. The function returns the group membership probabilities for each of the 16 response categories in the observed data."
   ]
  },
  {
   "cell_type": "code",
   "execution_count": 3,
   "metadata": {
    "collapsed": true
   },
   "outputs": [],
   "source": [
    "# Define functions necessary for computing group membership probabilities\n",
    "def pi(i, α, β, μ, λ):\n",
    "    return α * int((i==0)) + β * (μ ** i) * np.exp(-μ) + (1 - α - β) * (λ ** i) * np.exp(-λ)\n",
    "\n",
    "# Zero responder\n",
    "def z_i(i, α, β, μ, λ):\n",
    "    if i==0:\n",
    "        return α/pi(i=0, α=α, β=β, μ=μ, λ=λ)\n",
    "    if i > 0: \n",
    "        return 0\n",
    "\n",
    "# Typical behavior\n",
    "def t_i(i, α, β, μ, λ):\n",
    "    return (β * (μ ** i) * np.exp(-μ))/pi(i, α=α, β=β, μ=μ, λ=λ)\n",
    "\n",
    "# Promiscuous behavior\n",
    "def p_i(i, α, β, μ, λ):\n",
    "    return ((1 - α - β) * (λ ** i) * np.exp(-λ))/pi(i, α=α, β=β, μ=μ, λ=λ)"
   ]
  },
  {
   "cell_type": "code",
   "execution_count": 4,
   "metadata": {
    "collapsed": true
   },
   "outputs": [],
   "source": [
    "def e_step(x, α, β, μ, λ):\n",
    "    indexes = np.arange(x.__len__())\n",
    "    \n",
    "    # Probabilities of group membership\n",
    "    z_wt = [z_i(i, α, β, μ, λ) for i in indexes] # zero\n",
    "    \n",
    "    t_wt = [t_i(i, α, β, μ, λ) for i in indexes] # typical\n",
    "    \n",
    "    p_wt = [p_i(i, α, β, μ, λ) for i in indexes] # promiscuous\n",
    "    \n",
    "    # Return the weights\n",
    "    return z_wt, t_wt, p_wt"
   ]
  },
  {
   "cell_type": "markdown",
   "metadata": {},
   "source": [
    "For the M-step, we want to update the parameter values by making an educated guess at an improved value. This is accomplished by computing the estimates of the parameters that maximize the likelihood function. These are the estimates given in the problem prompt and discussed in part (a). The M-step function takes in the observed data the group weights from the E-step as arguments and computes the updates for parameters $(\\alpha, \\beta, \\mu, \\lambda)$."
   ]
  },
  {
   "cell_type": "code",
   "execution_count": 5,
   "metadata": {
    "collapsed": true
   },
   "outputs": [],
   "source": [
    "# Define additional variables\n",
    "n0 = encounters.freq[0]\n",
    "N = np.sum(encounters.freq)"
   ]
  },
  {
   "cell_type": "code",
   "execution_count": 6,
   "metadata": {
    "collapsed": true
   },
   "outputs": [],
   "source": [
    "# Takes in data and the weights from e_step\n",
    "def m_step(x, w):\n",
    "    # Explicitly define the weights for each group\n",
    "    z,t,p = w\n",
    "    \n",
    "    i = np.arange(x.__len__())\n",
    "    \n",
    "    # Updates\n",
    "    alpha = (n0 * z[0])/N\n",
    "    \n",
    "    beta = np.sum((x * t)/N)\n",
    "    \n",
    "    mu = np.sum(i * x * t)/np.sum(x * t)\n",
    "    \n",
    "    lam = np.sum(i * x * p)/np.sum(x * p)\n",
    "    \n",
    "    return alpha, beta, mu, lam"
   ]
  },
  {
   "cell_type": "markdown",
   "metadata": {},
   "source": [
    "Now, we combine the E- and M-steps to actually implement the EM algorithm. Essentially, we start with initial parameter value guesses and iterate between the steps above until convergence. We will start with initial guesses of $\\alpha_0 = 0.1$ and $\\beta_0 = 0.7$, indicating that we believe 10% of responders will say 0 risky encounters regardless, 70% will exhibit typical behavior, and 20% will exhibit promiscuous behavior. Our initial guesses for the means of the typical and promiscuous groups will be one and seven, respectively. Once all four parameters have reached the convergence criteria (changing by less than 1e-5 between iterations), we will consider the algorithm to be complete."
   ]
  },
  {
   "cell_type": "code",
   "execution_count": 7,
   "metadata": {
    "collapsed": true
   },
   "outputs": [],
   "source": [
    "def em_alg(alpha0, beta0, mu0, lambda0, x=encounters.freq):\n",
    "    \n",
    "    # Initialize values\n",
    "    alpha = alpha0\n",
    "    beta = beta0\n",
    "    mu = mu0\n",
    "    lam = lambda0\n",
    "\n",
    "    # Stopping criterion\n",
    "    crit = 1e-5\n",
    "\n",
    "    # Convergence flag\n",
    "    converged = False\n",
    "\n",
    "    # Loop until converged\n",
    "    while not converged:\n",
    "\n",
    "        # E-step\n",
    "        w = e_step(x, alpha, beta, mu, lam)\n",
    "        # M-step\n",
    "        α_new, β_new, μ_new, λ_new = m_step(x, w)\n",
    "\n",
    "        # Check convergence\n",
    "        converged = ((np.abs(α_new - alpha) < crit) \n",
    "                     & (np.abs(β_new - beta) < crit)\n",
    "                     & (np.abs(μ_new - mu) < crit)\n",
    "                     & (np.abs(λ_new - lam) < crit))\n",
    "        alpha, beta, mu, lam = α_new, β_new, μ_new, λ_new\n",
    "        \n",
    "    return alpha, beta, mu, lam"
   ]
  },
  {
   "cell_type": "code",
   "execution_count": 8,
   "metadata": {
    "collapsed": false
   },
   "outputs": [
    {
     "data": {
      "text/plain": [
       "(0.12215319624493973,\n",
       " 0.5625417622037108,\n",
       " 1.4673935938188942,\n",
       " 5.938788078596986)"
      ]
     },
     "execution_count": 8,
     "metadata": {},
     "output_type": "execute_result"
    }
   ],
   "source": [
    "em_alg(alpha0 = .1, beta0 = .7, mu0 = 1, lambda0 = 7)"
   ]
  },
  {
   "cell_type": "markdown",
   "metadata": {},
   "source": [
    "So we end up with the following parameter estimates from the EM algorithm:  \n",
    "$\\hat{\\alpha} = .12$ (Roughly 12% of responders report 0 risky encounters regardless.)  \n",
    "$\\hat{\\beta} = .56$ (Roughly56% of responders exhibit typical behavior)  \n",
    "(Roughly $(1 - \\hat{\\alpha}-\\hat{\\beta})*100 =$ 32% of responders exhibit promiscuous behavior)  \n",
    "$\\hat{\\mu} = 1.47$ (The average number of risky encounters for those with typical behavior)  \n",
    "$\\hat{\\lambda} = 5.94$ (The average number of risky encounters for those with promiscuous behavior)  "
   ]
  },
  {
   "cell_type": "markdown",
   "metadata": {},
   "source": [
    "# Question 2\n",
    "\n",
    "Suppose $y$ has a binomial distribution with parameters $n$ and $p$, and we are interested in the log-odds value $\\theta = \\log(p/(1 − p))$. Our prior for $\\theta$ is that $\\theta \\sim N(\\mu, \\sigma^2)$. It follows that the posterior density of $\\theta$ is given, up to a proportionality constant, by:\n",
    "\n",
    "$$\\pi(\\theta | y) \\propto \\frac{\\exp(y\\theta)}{(1 + exp(\\theta))^n} \\exp\\left[\\frac{-(\\theta − \\mu)^2}{2\\sigma^2}\\right]$$\n",
    "\n",
    "For example, suppose we are interested in learning about the probability that a possibly-biased coin lands heads when tossed. *A priori* we believe that the coin is fair, so we assign $\\theta$ a $N(0,.25)$ prior. We toss the coin $n = 5$ times and obtain $y = 5$ heads.\n",
    "\n",
    "1. Using a normal approximation to the posterior density, compute the probability that the coin is biased toward heads (i.e., that θ is positive).\n",
    "2. Using the prior density as a proposal density, design a rejection algorithm for sampling from the posterior distribution. Using simulated draws from your algorithm, approximate the probability that the coin is biased toward heads.\n",
    "3. Using the prior density as a proposal density, simulate values from the posterior distribution using the SIR algorithm. Approximate the probability that the coin is biased toward heads."
   ]
  },
  {
   "cell_type": "markdown",
   "metadata": {},
   "source": [
    "## Answer to Question 2.1\n",
    "\n",
    "By expanding $h(\\theta|y) = log(f(y|\\theta)p(\\theta)$ using a first order Taylor-series expansion, we note that an approximation to the posterior density of $\\theta$ is given by a normal distribution with mean at the MLE of $\\theta$ and variance $\\Sigma = [-h''(\\hat{\\theta}|y)]^{-1}$. We numerically estimate these quantities using the scipy minimize function.\n",
    "\n"
   ]
  },
  {
   "cell_type": "code",
   "execution_count": 9,
   "metadata": {
    "collapsed": false
   },
   "outputs": [
    {
     "name": "stdout",
     "output_type": "stream",
     "text": [
      "posterior mode of theta: [ 0.47831318]\n",
      "posterior variance of theta: 0.193040735116\n"
     ]
    }
   ],
   "source": [
    "# 2a - normal approximation\n",
    "from scipy.optimize import minimize\n",
    "\n",
    "mu = 0\n",
    "sigma = 0.5\n",
    "# exact posterior density \n",
    "def post_theta(theta, y = 5,n = 5):\n",
    "    post_prob = np.log(np.exp(y*theta)/(1+np.exp(theta))**n * np.exp(-1*(theta-mu)**2 / (2*sigma**2)))\n",
    "    return post_prob\n",
    "\n",
    "post_theta_min = lambda *args: -post_theta(*args)\n",
    "init_value = 1\n",
    "opt = minimize(post_theta_min, init_value, method='L-BFGS-B')\n",
    "mode = opt.x\n",
    "var = opt.hess_inv.todense()[0][0]\n",
    "print(\"posterior mode of theta: \" + str(mode)) \n",
    "print(\"posterior variance of theta: \" + str(var))"
   ]
  },
  {
   "cell_type": "code",
   "execution_count": 10,
   "metadata": {
    "collapsed": false
   },
   "outputs": [
    {
     "name": "stdout",
     "output_type": "stream",
     "text": [
      "the posterior estimate that the coin is based towards head is 0.8639\n"
     ]
    }
   ],
   "source": [
    "# sample from normal distribution with mean and variance given by approximation\n",
    "n_samples = 10000\n",
    "norm_samples = np.random.normal(mode, np.sqrt(var), n_samples)\n",
    "p_biased = np.sum(norm_samples > 0)/n_samples\n",
    "print(\"the posterior estimate that the coin is based towards head is \" + str(p_biased))"
   ]
  },
  {
   "cell_type": "code",
   "execution_count": 11,
   "metadata": {
    "collapsed": false
   },
   "outputs": [
    {
     "data": {
      "image/png": "[encoded data removed]",
      "text/plain": [
       "<matplotlib.figure.Figure at 0x1114694e0>"
      ]
     },
     "metadata": {},
     "output_type": "display_data"
    }
   ],
   "source": [
    "_ = plt.hist(norm_samples)"
   ]
  },
  {
   "cell_type": "code",
   "execution_count": 12,
   "metadata": {
    "collapsed": false
   },
   "outputs": [
    {
     "data": {
      "text/plain": [
       "0.004057994512227275"
      ]
     },
     "execution_count": 12,
     "metadata": {},
     "output_type": "execute_result"
    }
   ],
   "source": [
    "# exact posterior density \n",
    "def post_theta(theta,y,n,mu,sigma):\n",
    "    post_prob = np.exp(y*theta)/(1+np.exp(theta))**n * np.exp(-1*(theta-mu)**2 / (2*sigma**2))\n",
    "    return post_prob\n",
    "\n",
    "theta = 1.5\n",
    "y = 5\n",
    "n = 5\n",
    "mu = 0 \n",
    "sigma = 0.5\n",
    "\n",
    "# \n",
    "post_theta(theta,y,n,mu,sigma)"
   ]
  },
  {
   "cell_type": "code",
   "execution_count": 13,
   "metadata": {
    "collapsed": false
   },
   "outputs": [
    {
     "data": {
      "text/plain": [
       "[<matplotlib.lines.Line2D at 0x1040542b0>]"
      ]
     },
     "execution_count": 13,
     "metadata": {},
     "output_type": "execute_result"
    },
    {
     "data": {
      "image/png": "[encoded data removed]",
      "text/plain": [
       "<matplotlib.figure.Figure at 0x113b4d940>"
      ]
     },
     "metadata": {},
     "output_type": "display_data"
    }
   ],
   "source": [
    "theta_seq = pd.Series(np.linspace(-2, 3, num = 100))\n",
    "post_true = pd.Series([post_theta(theta,y,n,mu,sigma) for theta in theta_seq])\n",
    "\n",
    "plt.plot(theta_seq, post_true)"
   ]
  },
  {
   "cell_type": "code",
   "execution_count": 14,
   "metadata": {
    "collapsed": false
   },
   "outputs": [
    {
     "data": {
      "text/plain": [
       "0.8663271771924194"
      ]
     },
     "execution_count": 14,
     "metadata": {},
     "output_type": "execute_result"
    }
   ],
   "source": [
    "# find area underneath posterior for theta > 0\n",
    "const = np.sum(post_true)\n",
    "np.sum(post_true[theta_seq >0])/const"
   ]
  },
  {
   "cell_type": "code",
   "execution_count": 15,
   "metadata": {
    "collapsed": false
   },
   "outputs": [
    {
     "name": "stdout",
     "output_type": "stream",
     "text": [
      "True posterior mean of theta: 0.48317345953076124\n",
      "True posterior variance of theta: 0.19478243146260318\n"
     ]
    }
   ],
   "source": [
    "# find expected value/variance\n",
    "const = np.sum(post_true)\n",
    "mo_1 = np.sum(post_true*theta_seq/const)\n",
    "mo_2 = np.sum(post_true*theta_seq**2/const)\n",
    "var = mo_2 - mo_1**2\n",
    "print(\"True posterior mean of theta: \" + str(mo_1))\n",
    "print(\"True posterior variance of theta: \" + str(var))"
   ]
  },
  {
   "cell_type": "markdown",
   "metadata": {},
   "source": [
    "# Answer to Question 2.2"
   ]
  },
  {
   "cell_type": "markdown",
   "metadata": {},
   "source": [
    "For the rejection algorithm, we want to define an enveloping distribution $g$ from which we will sample. Values sampled from $g$ will be accepted or rejected based on the truth, $f$. We will also accept $g$ with some probability if $u_i < f(x_i)/cg(x_i)$, where $u_i$ is a draw from a random uniform distribution and $c$ is an appropriately chosen constant. We want to choose $c$ such that \n",
    "\n",
    "$$\\cfrac{f(\\theta|y)}{g(\\theta)} \\le c\\ \\bigg( \\text{or equivalently } \\log[f(\\theta|y)] - \\log[g(\\theta)] \\le c'\\bigg)$$"
   ]
  },
  {
   "cell_type": "markdown",
   "metadata": {},
   "source": [
    "We are given that the posterior is proportional to the following:  \n",
    "$$\\pi(\\theta | y) \\propto \\frac{\\exp(y\\theta)}{(1 + exp(\\theta))^n} \\exp\\left[\\frac{-(\\theta − \\mu)^2}{2\\sigma^2}\\right]$$  \n",
    "\n",
    "which means on the log scale we have:  \n",
    "$$log(\\pi(\\theta | y)) \\propto y\\theta - n\\ log(1 + exp(\\theta)) - \\frac{(\\theta − \\mu)^2}{2\\sigma^2}$$  \n",
    "\n",
    "Belowe we define a function to compute the log-posterior given $\\theta$ and the data ($n=5,\\ y=5$)"
   ]
  },
  {
   "cell_type": "code",
   "execution_count": 17,
   "metadata": {
    "collapsed": true
   },
   "outputs": [],
   "source": [
    "# Posterior on log scale\n",
    "def logpost(theta, n, y):\n",
    "    \n",
    "    mu, sig = 0, np.sqrt(.25)\n",
    "    \n",
    "    lpost = y*theta - n*np.log(1 + np.exp(theta)) - ((theta - mu)**2)/(2*(sig**2))\n",
    "    \n",
    "    return lpost"
   ]
  },
  {
   "cell_type": "markdown",
   "metadata": {},
   "source": [
    "Now, we create a function that will compute the difference between the log-posterior and the log of our proposal density. For this problem, we are considering the prior distribution ($\\theta \\sim N(0,.25)$) to be the proposal. We maximize this function (by minimizing a negated version of it) to obtain our value of $c$ to use the in rejection sampling algorithm."
   ]
  },
  {
   "cell_type": "code",
   "execution_count": 19,
   "metadata": {
    "collapsed": false
   },
   "outputs": [
    {
     "data": {
      "text/plain": [
       "      fun: -0.225783629283967\n",
       " hess_inv: array([[ 45057.03046462]])\n",
       "      jac: array([ -7.62939453e-06])\n",
       "  message: 'Optimization terminated successfully.'\n",
       "     nfev: 57\n",
       "      nit: 18\n",
       "     njev: 19\n",
       "   status: 0\n",
       "  success: True\n",
       "        x: array([ 13.3806981])"
      ]
     },
     "execution_count": 19,
     "metadata": {},
     "output_type": "execute_result"
    }
   ],
   "source": [
    "from scipy.optimize import minimize\n",
    "from scipy import stats\n",
    "def calc_diff(theta, n, y, mu, sig):\n",
    "\n",
    "    return logpost(theta, n, y) - np.log(stats.norm.pdf(theta, mu, sig))\n",
    "\n",
    "# Because we want c as an upper bound\n",
    "calc_diff_min = lambda *args: -calc_diff(*args)\n",
    "\n",
    "opt = minimize(calc_diff_min, \n",
    "                0, \n",
    "                args=(5,5,0,np.sqrt(.25)), \n",
    "                method='bfgs')\n",
    "opt"
   ]
  },
  {
   "cell_type": "markdown",
   "metadata": {},
   "source": [
    "So the value selected as the upper bound on the difference of the log posteriors is -0.23. Now, we implement the rejection sampling algorithm. First, we draw values of $\\theta$ from the proposed $N(0,.25)$ distribution. We then compute the log-posterior and log-normal density associated with $f$ ($\\pi$ above) and $g$ (the proposal), respectively. The acceptance probability is calculated to be $log(f) - log(g) + c$. We accept the proposed value if the acceptance probability is greater than a randomly generated uniform random variable."
   ]
  },
  {
   "cell_type": "code",
   "execution_count": 21,
   "metadata": {
    "collapsed": true
   },
   "outputs": [],
   "source": [
    "def reject(post, nsamp, n=5, y=5, mu=0, sig=np.sqrt(.25), c = opt.fun):\n",
    "    \n",
    "    # Draw samples from g(theta) ~ N(0,.25) \n",
    "    # Using prior density as our proposal\n",
    "    theta = np.random.normal(mu, sig, size=nsamp)\n",
    "    \n",
    "    # Calculate probability under g(theta)\n",
    "    gvals = np.array([(np.log(stats.norm.pdf(t, loc=mu, scale=sig))) for t in theta])\n",
    "    \n",
    "    # Calculate probability under f(theta)\n",
    "    fvals = np.array([post(t, n=n,y=y) for t in theta])\n",
    "    \n",
    "    # Calculate acceptance probability\n",
    "    p = np.exp(fvals - gvals + c)\n",
    "    \n",
    "    return theta[np.random.random(nsamp) < p]\n",
    "\n",
    "nsamples = 10000\n",
    "sample = reject(logpost, nsamples)"
   ]
  },
  {
   "cell_type": "code",
   "execution_count": 22,
   "metadata": {
    "collapsed": false
   },
   "outputs": [
    {
     "data": {
      "text/plain": [
       "0.8397565922920892"
      ]
     },
     "execution_count": 22,
     "metadata": {},
     "output_type": "execute_result"
    }
   ],
   "source": [
    "sample[sample>0].size/sample.size"
   ]
  },
  {
   "cell_type": "markdown",
   "metadata": {},
   "source": [
    "The estimated probability that the coin is biased is computed above as the simple proportion of accepted samples where $\\theta > 0$. Our estimate of the probability of a biased coin based on the rejection algorithm is 0.84. However, we can see that this rejection sampling had a low acceptance rate of just under 5%, which means it may be unreliable"
   ]
  },
  {
   "cell_type": "code",
   "execution_count": 24,
   "metadata": {
    "collapsed": false
   },
   "outputs": [
    {
     "data": {
      "text/plain": [
       "0.0493"
      ]
     },
     "execution_count": 24,
     "metadata": {},
     "output_type": "execute_result"
    }
   ],
   "source": [
    "float(sample.size)/nsamples"
   ]
  },
  {
   "cell_type": "markdown",
   "metadata": {},
   "source": [
    "# Answer to Question 2.2"
   ]
  },
  {
   "cell_type": "markdown",
   "metadata": {},
   "source": [
    "For the sampling importance resampling algorithm, we will work with the posterior on the original scale (i.e. not log-transformed). Again, we use the prior $N(0, .25)$ distribution as our proposal."
   ]
  },
  {
   "cell_type": "code",
   "execution_count": 30,
   "metadata": {
    "collapsed": true
   },
   "outputs": [],
   "source": [
    "# Function for posterior\n",
    "def post(theta, n, y):\n",
    "    mu, sig = 0, np.sqrt(.25)\n",
    "    \n",
    "    post = np.exp(y*theta)/((1 + np.exp(theta))**n) * np.exp((-(theta - mu)**2) / (2 * sig**2))\n",
    "    \n",
    "    return post"
   ]
  },
  {
   "cell_type": "markdown",
   "metadata": {},
   "source": [
    "The SIR algorithm is performed below. First, we draw values of $\\theta$ from the proposal distribution and calculate their associated densities under the proposal. Then, we compute the value of the posterior probability for each of the drawn $\\theta$s. The importance weights are defined to be the ratio between the posterior probability and proposal density (i.e. $f/g$). Furthermore, we divide these quotients by the maximum of the $f/g$ to normalize the weights."
   ]
  },
  {
   "cell_type": "code",
   "execution_count": 31,
   "metadata": {
    "collapsed": true
   },
   "outputs": [],
   "source": [
    "mu, sig = 0, np.sqrt(.25)\n",
    "nsamples = 10000\n",
    "\n",
    "theta = np.random.normal(mu, sig, size=nsamples)\n",
    "\n",
    "# Calculate probability under proposal\n",
    "q_theta = np.array([(stats.norm.pdf(t, loc=mu, scale=sig)) for t in theta])\n",
    "\n",
    "# Calculate probability under posterior\n",
    "f_theta = np.array([post(t, n=5,y=5) for t in theta])\n",
    "\n",
    "# importance weights (on original scale, not log scale)\n",
    "w = (f_theta / q_theta) / max(f_theta / q_theta)"
   ]
  },
  {
   "cell_type": "markdown",
   "metadata": {},
   "source": [
    "The SIR algorithmthen converts these weights to probabilities by computing the fractional importance of each weight: $p_i = \\frac{w(\\theta_i)}{\\sum_{i=1}^M w(\\theta_i)}$.  \n",
    "\n",
    "We sample values of $\\theta$ in the SIR algorithm according the these computed probabilities. Our estimate of the probability that the coin is biased is computed in the same way here as it was in part (b). That is, by determining the proportion of the SIR $\\theta$ draws that were greater than 0. The SIR estimate of this probability is 0.865."
   ]
  },
  {
   "cell_type": "code",
   "execution_count": 32,
   "metadata": {
    "collapsed": true
   },
   "outputs": [],
   "source": [
    "# convert weights to probabilities\n",
    "p_sir = w/w.sum()\n",
    "\n",
    "# sample theta values\n",
    "theta_sir = theta[np.random.choice(range(len(theta)), size=100000, p=p_sir)]"
   ]
  },
  {
   "cell_type": "code",
   "execution_count": 33,
   "metadata": {
    "collapsed": false
   },
   "outputs": [
    {
     "data": {
      "text/plain": [
       "0.86074"
      ]
     },
     "execution_count": 33,
     "metadata": {},
     "output_type": "execute_result"
    }
   ],
   "source": [
    "theta_sir[theta_sir>0].size/100000"
   ]
  },
  {
   "cell_type": "markdown",
   "metadata": {},
   "source": [
    "# Question 3\n",
    "\n",
    "The goal of this problem is to investigate the role of the proposal distribution in a Metropolis-Hastings algorithm designed to simulate from the posterior distribution of the mixture parameter $\\delta$. \n",
    "\n",
    "1. Simulate 200 realizations from the mixture distribution:\n",
    "    $$y_i \\sim \\delta N(7, 0.5^2) + (1-\\delta) N(10, 0.5^2)$$\n",
    "    with $\\delta = 0.7$. Plot a histogram of these data. \n",
    "2. Implement a random walk M-H algorithm with proposal $\\delta^{\\prime} = \\delta^{(i)} + \\epsilon$ with $\\epsilon \\sim Unif(−1,1)$. \n",
    "3. Reparameterize the problem letting $U = \\log\\left[\\frac{\\delta}{1 - \\delta}\\right]$ and $u^{\\prime} = u^{(i)} + \\epsilon$. Implement a random walk chain in U-space. \n",
    "4. Compare the estimates and convergence behavior of the three algorithms.\n",
    "\n",
    "In part (1), you are asked to simulate data from a distribution with $\\delta$ known. For parts (2)–(4), assume $\\delta$ is unknown with prior $\\delta \\sim Unif( 0,1)$. For parts (2)–(4), provide an appropriate plot and a table summarizing the output of the algorithm. \n",
    "\n",
    "To facilitate comparisons, use the same number of iterations, random seed, starting values, and burn-in period for all implementations of the algorithm. "
   ]
  },
  {
   "cell_type": "code",
   "execution_count": 35,
   "metadata": {
    "collapsed": false
   },
   "outputs": [
    {
     "data": {
      "image/png": "[encoded data removed]",
      "text/plain": [
       "<matplotlib.figure.Figure at 0x114211080>"
      ]
     },
     "metadata": {},
     "output_type": "display_data"
    }
   ],
   "source": [
    "n_samples = 2000\n",
    "delta = 0.7\n",
    "d = np.random.binomial(1, delta, n_samples)\n",
    "norm1 = np.random.normal(7, 0.5, n_samples)\n",
    "norm2 = np.random.normal(10, 0.5, n_samples)\n",
    "\n",
    "y = np.where(d > 0, norm1, norm2)\n",
    "_ = plt.hist(y)"
   ]
  },
  {
   "cell_type": "markdown",
   "metadata": {},
   "source": [
    "# Answer to Question 3.2"
   ]
  },
  {
   "cell_type": "code",
   "execution_count": 36,
   "metadata": {
    "collapsed": true
   },
   "outputs": [],
   "source": [
    "# part 3 - skip part 2\n",
    "from scipy.stats import norm\n",
    "lnorm = norm.logpdf\n",
    "\n",
    "def calc_posterior(delta, y = y, mu1 = 7, mu2 = 10, sigma1 = 0.5, sigma2 = 0.5):\n",
    "    logp = 0 # f(delta) = 1 --> log(f(delta)) = 0\n",
    "    logp += sum(np.log(delta*norm.pdf(y, mu1, sigma1) + (1-delta)*norm.pdf(y, mu2, sigma2)))\n",
    "    return logp"
   ]
  },
  {
   "cell_type": "code",
   "execution_count": 37,
   "metadata": {
    "collapsed": true
   },
   "outputs": [],
   "source": [
    "rnorm = np.random.normal\n",
    "runif = np.random.rand\n",
    "\n",
    "def metropolis(n_iterations, initial_values, prop_var=1, tune_interval = 100, trans = False):\n",
    "\n",
    "    n_params = len(initial_values)\n",
    "            \n",
    "    # Initial proposal standard deviations\n",
    "    prop_sd = [prop_var]*n_params\n",
    "    \n",
    "    # Initialize trace for parameters\n",
    "    trace = np.empty((n_iterations+1, n_params))\n",
    "    \n",
    "    # Set initial values\n",
    "    trace[0] = initial_values\n",
    "        \n",
    "    # Calculate joint posterior for initial values\n",
    "    # * allows you to pass in a set of three arguments to the function calc_posterior, instead of reading it as a list\n",
    "    current_log_prob = calc_posterior(*trace[0]) \n",
    "    \n",
    "    # Initialize acceptance counts\n",
    "    accepted = [0]*n_params\n",
    "    acceptance_rate = [0]*n_params\n",
    "    \n",
    "    for i in range(n_iterations):\n",
    "    \n",
    "        if not i%1000: print('Iteration %i' % i)\n",
    "    \n",
    "        # Grab current parameter values\n",
    "        current_params = trace[i]\n",
    "    \n",
    "        for j in range(n_params):\n",
    "    \n",
    "            # Get current value for parameter j\n",
    "            p = trace[i].copy()\n",
    "    \n",
    "            # Propose new value\n",
    "            epsilon = runif(1)\n",
    "            k = np.random.binomial(1,0.5,1)\n",
    "            \n",
    "            if trans == False:\n",
    "                theta = current_params[j] + k*epsilon + (k-1)*epsilon\n",
    "            else:\n",
    "                U = np.log(current_params[j] / (1-current_params[j])) + k*epsilon + (k-1)*epsilon\n",
    "                theta = 1/(1+np.exp(-U))\n",
    "                \n",
    "            # Insert new value \n",
    "            p[j] = theta\n",
    "    \n",
    "            # Calculate log posterior with proposed value\n",
    "            proposed_log_prob = calc_posterior(*p)\n",
    "    \n",
    "            # Log-acceptance rate\n",
    "            alpha = proposed_log_prob - current_log_prob # on log-scale --> difference rather than ratio\n",
    "    \n",
    "            # Sample a uniform random variate\n",
    "            u = runif()\n",
    "    \n",
    "            # Test proposed value\n",
    "            if np.log(u) < alpha:\n",
    "                # Accept\n",
    "                trace[i+1,j] = theta # accept proposed value of theta\n",
    "                current_log_prob = proposed_log_prob\n",
    "                accepted[j] += 1 # increment the number of values of theta accepted\n",
    "            else:\n",
    "                # Reject\n",
    "                trace[i+1,j] = trace[i,j] # copy last parameter value as current value\n",
    "            \n",
    "            # change proposal scale (prop_sd) based on acceptance rate (alpha)\n",
    "            # as alpha increases, more are accepted --> increase proposal sd\n",
    "            \n",
    "            if not (i+1) % tune_interval:\n",
    "                acceptance_rate[j] = accepted[j] / tune_interval\n",
    "                \n",
    "                if acceptance_rate[j]<0.2:\n",
    "                    prop_sd[j] *= 0.9\n",
    "                elif acceptance_rate[j] > 0.5:\n",
    "                    prop_sd[j] *=1.1\n",
    "\n",
    "                accepted[j] = 0    \n",
    "                    \n",
    "            \n",
    "                \n",
    "    return trace, acceptance_rate"
   ]
  },
  {
   "cell_type": "code",
   "execution_count": 41,
   "metadata": {
    "collapsed": false
   },
   "outputs": [
    {
     "name": "stdout",
     "output_type": "stream",
     "text": [
      "Iteration 0\n",
      "Iteration 1000\n",
      "Iteration 2000\n",
      "Iteration 3000\n",
      "Iteration 4000\n",
      "Iteration 5000\n",
      "Iteration 6000\n",
      "Iteration 7000\n",
      "Iteration 8000\n",
      "Iteration 9000\n",
      "Iteration 10000\n",
      "Iteration 11000\n",
      "Iteration 12000\n",
      "Iteration 13000\n",
      "Iteration 14000\n",
      "Iteration 15000\n",
      "Iteration 16000\n",
      "Iteration 17000\n",
      "Iteration 18000\n",
      "Iteration 19000\n",
      "Iteration 20000\n",
      "Iteration 21000\n",
      "Iteration 22000\n",
      "Iteration 23000\n",
      "Iteration 24000\n"
     ]
    }
   ],
   "source": [
    "n_iter = 25000\n",
    "trace, acc = metropolis(n_iter, [0.7])"
   ]
  },
  {
   "cell_type": "code",
   "execution_count": 42,
   "metadata": {
    "collapsed": false
   },
   "outputs": [
    {
     "data": {
      "text/plain": [
       "[0.02]"
      ]
     },
     "execution_count": 42,
     "metadata": {},
     "output_type": "execute_result"
    }
   ],
   "source": [
    "acc"
   ]
  },
  {
   "cell_type": "code",
   "execution_count": 43,
   "metadata": {
    "collapsed": false
   },
   "outputs": [
    {
     "data": {
      "image/png": "[encoded data removed]",
      "text/plain": [
       "<matplotlib.figure.Figure at 0x1142112b0>"
      ]
     },
     "metadata": {},
     "output_type": "display_data"
    }
   ],
   "source": [
    "for param, samples in zip(['delta'], trace.T):\n",
    "    fig, axes = plt.subplots(1, 2, figsize=(8, 2))\n",
    "    axes[0].plot(samples)\n",
    "    axes[0].set_ylabel(param)\n",
    "    axes[1].hist(samples[int(len(samples)/2):])"
   ]
  },
  {
   "cell_type": "markdown",
   "metadata": {},
   "source": [
    "Looking at this plot, we could've sampled for longer for better mixing. "
   ]
  },
  {
   "cell_type": "markdown",
   "metadata": {},
   "source": [
    "# Answer to Question 3.3 "
   ]
  },
  {
   "cell_type": "code",
   "execution_count": 44,
   "metadata": {
    "collapsed": false
   },
   "outputs": [
    {
     "name": "stdout",
     "output_type": "stream",
     "text": [
      "Iteration 0\n",
      "Iteration 1000\n",
      "Iteration 2000\n",
      "Iteration 3000\n",
      "Iteration 4000\n",
      "Iteration 5000\n",
      "Iteration 6000\n",
      "Iteration 7000\n",
      "Iteration 8000\n",
      "Iteration 9000\n",
      "Iteration 10000\n",
      "Iteration 11000\n",
      "Iteration 12000\n",
      "Iteration 13000\n",
      "Iteration 14000\n",
      "Iteration 15000\n",
      "Iteration 16000\n",
      "Iteration 17000\n",
      "Iteration 18000\n",
      "Iteration 19000\n",
      "Iteration 20000\n",
      "Iteration 21000\n",
      "Iteration 22000\n",
      "Iteration 23000\n",
      "Iteration 24000\n"
     ]
    }
   ],
   "source": [
    "trace_trans, acc_trans = metropolis(n_iter, [0.7], trans=True)"
   ]
  },
  {
   "cell_type": "code",
   "execution_count": 45,
   "metadata": {
    "collapsed": false
   },
   "outputs": [
    {
     "data": {
      "image/png": "[encoded data removed]",
      "text/plain": [
       "<matplotlib.figure.Figure at 0x11520fe10>"
      ]
     },
     "metadata": {},
     "output_type": "display_data"
    }
   ],
   "source": [
    "for param, samples in zip(['delta'], trace_trans.T):\n",
    "    fig, axes = plt.subplots(1, 2, figsize=(8, 2))\n",
    "    axes[0].plot(samples)\n",
    "    axes[0].set_ylabel(param)\n",
    "    axes[1].hist(samples[int(len(samples)/2):])"
   ]
  },
  {
   "cell_type": "code",
   "execution_count": 47,
   "metadata": {
    "collapsed": false
   },
   "outputs": [
    {
     "data": {
      "text/plain": [
       "[0.13]"
      ]
     },
     "execution_count": 47,
     "metadata": {},
     "output_type": "execute_result"
    }
   ],
   "source": [
    "acc_trans # acceptance rate tripled to 0.13"
   ]
  },
  {
   "cell_type": "markdown",
   "metadata": {},
   "source": [
    "# Answer to Question 3.4\n",
    "\n",
    "While both metropolis algorithms result in posterior densities with similar modes, the distribution of the second (random walk in U-space) is more highly concentrated on the central values of the distribution than the first. Moreover, the trace looks significantly less autocorrelated for the U-space random walk than the standard random walk. This contributes to the U-space random walk with an acceptance rate that is three times higher. "
   ]
  },
  {
   "cell_type": "markdown",
   "metadata": {},
   "source": [
    "# Question 4\n",
    "\n",
    "Carlin (1992) considers a Bayesian approach to meta-analysis, and includes the following examples of 22 trials of beta-blockers to prevent mortality after myocardial infarction. These data are given below.\n",
    "\n",
    "In one possible random effects model we assume the true baseline mean (on a log-odds scale) $m_i$ in a trial $i$\n",
    "is drawn from some population distribution. Let $r^C_i$ denote number of events in the control group in trial $i$, and $r^T_i$ denote events under active treatment in trial $i$. Our model is:\n",
    "\n",
    "$$\\begin{aligned}\n",
    "r^C_i &\\sim \\text{Binomial}\\left(p^C_i, n^C_i\\right) \\\\\n",
    "r^T_i &\\sim \\text{Binomial}\\left(p^T_i, n^T_i\\right) \\\\\n",
    "\\text{logit}\\left(p^C_i\\right) &= \\mu_i \\\\\n",
    "\\text{logit}\\left(p^T_i\\right) &= \\mu_i + \\delta \\\\\n",
    "\\mu_i &\\sim \\text{Normal}(m, s).\n",
    "\\end{aligned}$$\n",
    "\n",
    "In this case, we want to make inferences about the population effect $m$, and the predictive distribution for the effect $\\delta_{\\text{new}}$ in a new trial. \n",
    "\n",
    "This particular model uses a random effect for the population mean, and a fixed effect for the treatment effect. There are 3 other models you could fit to represent all possible combinations of fixed or random effects for these two parameters.\n",
    "\n",
    "Build all 4 models to estimate the treatment effect in PyMC3 and \n",
    "\n",
    "1. use convergence diagnostics to check for convergence in each model \n",
    "2. use posterior predictive checks to compare the fit of the models\n",
    "3. use DIC to compare the models as approximations of the true generating model\n",
    "\n",
    "Which model would you select and why?"
   ]
  },
  {
   "cell_type": "code",
   "execution_count": null,
   "metadata": {
    "collapsed": true
   },
   "outputs": [],
   "source": [
    "from pymc3 import Normal, MvNormal, Binomial\n",
    "r_t_obs = [3, 7, 5, 102, 28, 4, 98, 60, 25, 138, 64, 45, 9, 57, 25, 33, 28, 8, 6, 32, 27, 22]\n",
    "n_t_obs = [38, 114, 69, 1533, 355, 59, 945, 632, 278,1916, 873, 263, 291, 858, 154, 207, 251, 151, 174, 209, 391, 680]\n",
    "r_c_obs = [3, 14, 11, 127, 27, 6, 152, 48, 37, 188, 52, 47, 16, 45, 31, 38, 12, 6, 3, 40, 43, 39]\n",
    "n_c_obs = [39, 116, 93, 1520, 365, 52, 939, 471, 282, 1921, 583, 266, 293, 883, 147, 213, 122, 154, 134, 218, 364, 674]\n",
    "N = len(n_c_obs)\n",
    "obs = np.arange(0, N, 1)"
   ]
  },
  {
   "cell_type": "code",
   "execution_count": 48,
   "metadata": {
    "collapsed": true
   },
   "outputs": [],
   "source": [
    "# 4 models: \n",
    "# 1. random population mean, fixed treatment effect \n",
    "# 2. fixed population mean, fixed treatment effect \n",
    "# 3. fixed population mean, random treatment effect \n",
    "# 4. random population mean, random treatment effect "
   ]
  },
  {
   "cell_type": "code",
   "execution_count": null,
   "metadata": {
    "collapsed": true
   },
   "outputs": [],
   "source": [
    "# model 1: random mu_i, fixed delta\n",
    "with pm.Model() as model1:\n",
    "    m = pm.Normal(\"m\", 0, sd = 100)\n",
    "    sd_mu = pm.HalfCauchy(\"sd_mu\",5)\n",
    "    delta = pm.Normal(\"delta\", 0, sd = 100)\n",
    "    mu = pm.Normal(\"mu\", m, sd = sd_mu, shape = N)\n",
    "    pc = pm.math.invlogit(mu)\n",
    "    pt = pm.math.invlogit(mu + delta)\n",
    "    like_c = pm.Binomial(\"rc\", np.array(n_c_obs), pc, observed = np.array(r_c_obs))\n",
    "    like_t = pm.Binomial(\"rt\", np.array(n_t_obs), pt, observed = np.array(r_t_obs)) \n",
    "\n",
    "# model 2: fixed mu, fixed delta\n",
    "with pm.Model() as model2:\n",
    "#     m = pm.Normal(\"m\", 0, sd = 100)\n",
    "    delta = pm.Normal(\"delta\", 0, sd = 100)\n",
    "    mu = pm.Normal(\"mu\", 0, sd = 100)\n",
    "    pc = pm.math.invlogit(mu)\n",
    "    pt = pm.math.invlogit(mu + delta)\n",
    "    like_c = pm.Binomial(\"rc\", np.array(n_c_obs), pc, observed = np.array(r_c_obs))\n",
    "    like_t = pm.Binomial(\"rt\", np.array(n_t_obs), pt, observed = np.array(r_t_obs))    \n",
    "    \n",
    "# model 3: fixed mu, random delta\n",
    "with pm.Model() as model3:\n",
    "#     m = pm.Normal(\"m\", 0, sd = 100)\n",
    "    mu_delta = pm.Normal(\"mu_delta\", 0, 100)\n",
    "#     sd_delta = pm.HalfCauchy(\"sd_delta\", 5)\n",
    "    delta = pm.Normal(\"delta\", mu_delta, sd = 10, shape = N)\n",
    "    mu = pm.Normal(\"mu\", 0, sd = 100)\n",
    "    pc = pm.math.invlogit(mu)\n",
    "    pt = pm.math.invlogit(mu + delta)\n",
    "    like_c = pm.Binomial(\"rc\", np.array(n_c_obs), pc, observed = np.array(r_c_obs))\n",
    "    like_t = pm.Binomial(\"rt\", np.array(n_t_obs), pt, observed = np.array(r_t_obs)) \n",
    "    \n",
    "# model 4: random mu, random delta    \n",
    "with pm.Model() as model4:\n",
    "    m = pm.Normal(\"m\", 0, sd = 100)\n",
    "    sd_mu = pm.HalfCauchy(\"sd_mu\",5)    \n",
    "    mu_delta = pm.Normal(\"mu_delta\", 0, 100)\n",
    "    sd_delta = pm.HalfCauchy(\"sd_delta\", 5)\n",
    "    delta = pm.Normal(\"delta\", mu_delta, sd = sd_delta, shape = N)\n",
    "    mu = pm.Normal(\"mu\", m, sd = sd_mu, shape = N)\n",
    "    pc = pm.math.invlogit(mu)\n",
    "    pt = pm.math.invlogit(mu + delta)\n",
    "    like_c = pm.Binomial(\"rc\", np.array(n_c_obs), pc, observed = np.array(r_c_obs))\n",
    "    like_t = pm.Binomial(\"rt\", np.array(n_t_obs), pt, observed = np.array(r_t_obs))      "
   ]
  },
  {
   "cell_type": "code",
   "execution_count": null,
   "metadata": {
    "collapsed": true
   },
   "outputs": [],
   "source": [
    "nsamples = 1000\n",
    "with model1:\n",
    "    trace1 = pm.sample(nsamples)\n",
    "\n",
    "with model2:\n",
    "    trace2 = pm.sample(nsamples)\n",
    "    \n",
    "with model3:\n",
    "    trace3 = pm.sample(nsamples)\n",
    "    \n",
    "with model4:\n",
    "    trace4 = pm.sample(nsamples)"
   ]
  },
  {
   "cell_type": "code",
   "execution_count": null,
   "metadata": {
    "collapsed": true
   },
   "outputs": [],
   "source": [
    "# trace model 1\n",
    "pm.traceplot(trace1[200:], varnames=['delta', 'm', 'mu']);"
   ]
  },
  {
   "cell_type": "code",
   "execution_count": null,
   "metadata": {
    "collapsed": true
   },
   "outputs": [],
   "source": [
    "# trace model 2\n",
    "pm.traceplot(trace2[200:], varnames=['delta','mu']);"
   ]
  },
  {
   "cell_type": "code",
   "execution_count": null,
   "metadata": {
    "collapsed": true
   },
   "outputs": [],
   "source": [
    "# trace model 3\n",
    "pm.traceplot(trace3[200:], varnames=['delta', 'mu_delta', 'mu']);"
   ]
  },
  {
   "cell_type": "code",
   "execution_count": null,
   "metadata": {
    "collapsed": true
   },
   "outputs": [],
   "source": [
    "# trace model 4\n",
    "pm.traceplot(trace4[200:], varnames=['delta', 'mu','m', 'mu_delta']);"
   ]
  },
  {
   "cell_type": "code",
   "execution_count": null,
   "metadata": {
    "collapsed": true
   },
   "outputs": [],
   "source": [
    "# compare DIC of models\n",
    "print(\"DIC model 1 = \" + str(pm.stats.dic(model = model1, trace = trace1)))\n",
    "print(\"DIC model 2 = \" + str(pm.stats.dic(model = model2, trace = trace2)))\n",
    "print(\"DIC model 3 = \" + str(pm.stats.dic(model = model3, trace = trace3)))\n",
    "print(\"DIC model 4 = \" + str(pm.stats.dic(model = model4, trace = trace4)))"
   ]
  },
  {
   "cell_type": "code",
   "execution_count": null,
   "metadata": {
    "collapsed": true
   },
   "outputs": [],
   "source": [
    "# posterior predictive checks on delta\n",
    "from pymc3 import sample_ppc\n",
    "\n",
    "with model1:\n",
    "    model1_sim = sample_ppc(trace1, samples=500)\n",
    "    \n",
    "with model2:\n",
    "    model2_sim = sample_ppc(trace2, samples=500)\n",
    "    \n",
    "with model3:\n",
    "    model3_sim = sample_ppc(trace3, samples=500)\n",
    "    \n",
    "with model4:\n",
    "    model4_sim = sample_ppc(trace4, samples=500)    "
   ]
  },
  {
   "cell_type": "markdown",
   "metadata": {},
   "source": [
    "## Model 1 predictive checks"
   ]
  },
  {
   "cell_type": "code",
   "execution_count": null,
   "metadata": {
    "collapsed": true
   },
   "outputs": [],
   "source": [
    "fig, axes = plt.subplots(11, 2, figsize=(20, 20))\n",
    "axes = axes.ravel()\n",
    "\n",
    "for obs, sim, ax in zip(r_c_obs, model1_sim['rc'].T, axes):\n",
    "    ax.hist(sim)\n",
    "    ax.plot(obs, 1, 'ro')\n",
    "    "
   ]
  },
  {
   "cell_type": "code",
   "execution_count": null,
   "metadata": {
    "collapsed": true
   },
   "outputs": [],
   "source": [
    "fig, axes = plt.subplots(11, 2, figsize=(20, 20))\n",
    "axes = axes.ravel()\n",
    "\n",
    "for obs, sim, ax in zip(r_t_obs, model1_sim['rt'].T, axes):\n",
    "    ax.hist(sim)\n",
    "    ax.plot(obs, 1, 'ro')"
   ]
  },
  {
   "cell_type": "markdown",
   "metadata": {},
   "source": [
    "## Model 2 predictive checks\n"
   ]
  },
  {
   "cell_type": "code",
   "execution_count": null,
   "metadata": {
    "collapsed": true
   },
   "outputs": [],
   "source": [
    "fig, axes = plt.subplots(11, 2, figsize=(20, 20))\n",
    "axes = axes.ravel()\n",
    "\n",
    "for obs, sim, ax in zip(r_c_obs, model2_sim['rc'].T, axes):\n",
    "    ax.hist(sim)\n",
    "    ax.plot(obs, 1, 'ro')"
   ]
  },
  {
   "cell_type": "code",
   "execution_count": null,
   "metadata": {
    "collapsed": true
   },
   "outputs": [],
   "source": [
    "fig, axes = plt.subplots(11, 2, figsize=(20, 20))\n",
    "axes = axes.ravel()\n",
    "\n",
    "for obs, sim, ax in zip(r_t_obs, model2_sim['rt'].T, axes):\n",
    "    ax.hist(sim)\n",
    "    ax.plot(obs, 1, 'ro')"
   ]
  },
  {
   "cell_type": "markdown",
   "metadata": {},
   "source": [
    "## Model 3 predictive checks"
   ]
  },
  {
   "cell_type": "code",
   "execution_count": null,
   "metadata": {
    "collapsed": true
   },
   "outputs": [],
   "source": [
    "fig, axes = plt.subplots(11, 2, figsize=(20, 20))\n",
    "axes = axes.ravel()\n",
    "\n",
    "for obs, sim, ax in zip(r_c_obs, model3_sim['rc'].T, axes):\n",
    "    ax.hist(sim)\n",
    "    ax.plot(obs, 1, 'ro')"
   ]
  },
  {
   "cell_type": "code",
   "execution_count": null,
   "metadata": {
    "collapsed": true
   },
   "outputs": [],
   "source": [
    "fig, axes = plt.subplots(11, 2, figsize=(20, 20))\n",
    "axes = axes.ravel()\n",
    "\n",
    "for obs, sim, ax in zip(r_t_obs, model3_sim['rt'].T, axes):\n",
    "    ax.hist(sim)\n",
    "    ax.plot(obs, 1, 'ro')"
   ]
  },
  {
   "cell_type": "markdown",
   "metadata": {},
   "source": [
    "## Model 4 predictive checks\n",
    "\n"
   ]
  },
  {
   "cell_type": "code",
   "execution_count": null,
   "metadata": {
    "collapsed": true
   },
   "outputs": [],
   "source": [
    "fig, axes = plt.subplots(11, 2, figsize=(20, 20))\n",
    "axes = axes.ravel()\n",
    "\n",
    "for obs, sim, ax in zip(r_c_obs, model4_sim['rc'].T, axes):\n",
    "    ax.hist(sim)\n",
    "    ax.plot(obs, 1, 'ro')"
   ]
  },
  {
   "cell_type": "code",
   "execution_count": null,
   "metadata": {
    "collapsed": true
   },
   "outputs": [],
   "source": [
    "fig, axes = plt.subplots(11, 2, figsize=(20, 20))\n",
    "axes = axes.ravel()\n",
    "\n",
    "for obs, sim, ax in zip(r_t_obs, model4_sim['rt'].T, axes):\n",
    "    ax.hist(sim)\n",
    "    ax.plot(obs, 1, 'ro')"
   ]
  },
  {
   "cell_type": "markdown",
   "metadata": {},
   "source": [
    "Of the four models, model 1, with a random $\\mu$ and fixed $\\delta$ had the lowest DIC value at 457, followed by model 4 (random $\\mu$ and random $\\delta$) with a DIC of 490. The posterior predictive checks were similarly reasonable for all centers in model 1. Moreover, we may reasonably expect there to be a difference between centers, as the testing protocol was likely different across different trials. Model 2, which does not allow for random $\\mu$ values, does not appear to capture the heterogeneity in effect across centers, as many of the posterior predictive values are distributed far from the observed effects. Consequently, we conclude that Model 1 (random $\\mu$, fixed $\\delta$) is the best specification. "
   ]
  },
  {
   "cell_type": "code",
   "execution_count": null,
   "metadata": {
    "collapsed": true
   },
   "outputs": [],
   "source": []
  }
 ],
 "metadata": {
  "kernelspec": {
   "display_name": "Python 3",
   "language": "python",
   "name": "python3"
  },
  "language_info": {
   "codemirror_mode": {
    "name": "ipython",
    "version": 3
   },
   "file_extension": ".py",
   "mimetype": "text/x-python",
   "name": "python",
   "nbconvert_exporter": "python",
   "pygments_lexer": "ipython3",
   "version": "3.5.2"
  }
 },
 "nbformat": 4,
 "nbformat_minor": 2
}
